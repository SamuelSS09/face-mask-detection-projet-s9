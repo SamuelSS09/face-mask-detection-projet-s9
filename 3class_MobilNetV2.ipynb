{
  "nbformat": 4,
  "nbformat_minor": 0,
  "metadata": {
    "accelerator": "GPU",
    "colab": {
      "name": "3class_MobilNetV2.ipynb",
      "provenance": [],
      "collapsed_sections": [],
      "machine_shape": "hm"
    },
    "kernelspec": {
      "display_name": "Python 3",
      "language": "python",
      "name": "python3"
    },
    "language_info": {
      "codemirror_mode": {
        "name": "ipython",
        "version": 3
      },
      "file_extension": ".py",
      "mimetype": "text/x-python",
      "name": "python",
      "nbconvert_exporter": "python",
      "pygments_lexer": "ipython3",
      "version": "3.8.3"
    }
  },
  "cells": [
    {
      "cell_type": "markdown",
      "metadata": {
        "id": "view-in-github"
      },
      "source": [
        "<a href=\"https://colab.research.google.com/github/SamuelSS09/face-mask-detection-projet-s9/blob/main/Test_MobilNetV2_TEST.ipynb\" target=\"_parent\"><img src=\"https://colab.research.google.com/assets/colab-badge.svg\" alt=\"Open In Colab\"/></a>"
      ]
    },
    {
      "cell_type": "markdown",
      "metadata": {
        "id": "yi465OEuAtOD"
      },
      "source": [
        "Source 1 : https://github.com/HOD101s/Face-Mask-Detection\n",
        "\n",
        "Source 2 : https://github.com/mk-gurucharan/Face-Mask-Detection"
      ]
    },
    {
      "cell_type": "code",
      "metadata": {
        "id": "lF8TEwo1lr91"
      },
      "source": [
        "import numpy as np\n",
        "import pandas as pd\n",
        "import matplotlib.pyplot as plt\n",
        "import seaborn as sns\n",
        "import os\n",
        "import cv2\n",
        "import random\n",
        "import shutil\n",
        "\n",
        "from shutil import copyfile\n",
        "\n",
        "import plotly.express as px\n",
        "import plotly.graph_objects as go\n",
        "import plotly.figure_factory as ff\n",
        "from plotly.subplots import make_subplots\n",
        "\n",
        "import tensorflow as tf\n",
        "from tensorflow.keras.preprocessing.image import ImageDataGenerator\n",
        "from tensorflow.keras.models import Sequential\n",
        "from tensorflow.keras.applications import MobileNetV2\n",
        "from tensorflow.keras.layers import Dense, MaxPooling2D, Flatten, Dropout, Conv2D, GlobalAveragePooling2D, GlobalMaxPool2D\n",
        "from tensorflow.keras.optimizers import Adam\n",
        "from tensorflow.keras.callbacks import ModelCheckpoint, EarlyStopping"
      ],
      "execution_count": 390,
      "outputs": []
    },
    {
      "cell_type": "markdown",
      "metadata": {
        "id": "6P_7ibrql8MO"
      },
      "source": [
        "\n",
        "Fetching Our Data\n"
      ]
    },
    {
      "cell_type": "code",
      "metadata": {
        "colab": {
          "base_uri": "https://localhost:8080/"
        },
        "id": "8LHTGgool63n",
        "outputId": "106e925e-68e6-409f-cd9f-6d4a35c0806a"
      },
      "source": [
        "from google.colab import drive\n",
        "drive.mount('/content/drive')"
      ],
      "execution_count": 391,
      "outputs": [
        {
          "output_type": "stream",
          "text": [
            "Drive already mounted at /content/drive; to attempt to forcibly remount, call drive.mount(\"/content/drive\", force_remount=True).\n"
          ],
          "name": "stdout"
        }
      ]
    },
    {
      "cell_type": "code",
      "metadata": {
        "colab": {
          "base_uri": "https://localhost:8080/"
        },
        "id": "1b5DOAlwO3yy",
        "outputId": "0cc5fe9f-e89c-4cf0-b0ec-7761b9f9d0dc"
      },
      "source": [
        "!unzip -q \"/content/drive/MyDrive/S9/PROJET S9/Classification/Codes/Datasets/3classes_real_reduced_dataset.zip\" -d \"/content/datasets/\"\n",
        "# !unzip -q \"/content/drive/MyDrive/S9/PROJET S9/Classification/Codes/Datasets/3classes_simulated_dataset.zip\" -d \"/content/datasets/\""
      ],
      "execution_count": 392,
      "outputs": [
        {
          "output_type": "stream",
          "text": [
            "replace /content/datasets/__MACOSX/._3classes_real_reduced_dataset? [y]es, [n]o, [A]ll, [N]one, [r]ename: N\n"
          ],
          "name": "stdout"
        }
      ]
    },
    {
      "cell_type": "code",
      "metadata": {
        "id": "NqggW5GLmq-Q"
      },
      "source": [
        "base = '/content/drive/MyDrive/S9/PROJET S9/Classification/Codes/'\n",
        "# MODEL_DESCRIPTION = '3classes_simulated_MobNotTrainable' \n",
        "MODEL_DESCRIPTION = '3classes_FineTunning_MobNotTrainable' \n",
        "\n",
        "DATAPATH = os.path.join('datasets/3classes_real_reduced_dataset/')\n",
        "MASK_PATH = os.path.join(DATAPATH,'well_ported_mask/')\n",
        "NO_MASK_PATH = os.path.join(DATAPATH,'no_mask/')\n",
        "WRONG_MASK_PATH = os.path.join(DATAPATH,'wrong_ported_mask/')\n",
        "\n",
        "TRAIN_PATH = os.path.join(DATAPATH,'traindata/')\n",
        "TRAIN_MASK_PATH = os.path.join(DATAPATH,'traindata/well_ported_mask/')\n",
        "TRAIN_NO_MASK_PATH = os.path.join(DATAPATH,'traindata/no_mask/')\n",
        "TRAIN_WRONG_MASK_PATH = os.path.join(DATAPATH,'traindata/wrong_ported_mask/')\n",
        "\n",
        "VAL_PATH = os.path.join(DATAPATH,'valdata/')\n",
        "VAL_MASK_PATH = os.path.join(DATAPATH,'valdata/well_ported_mask/')\n",
        "VAL_NO_MASK_PATH = os.path.join(DATAPATH,'valdata/no_mask/')\n",
        "VAL_WRONG_MASK_PATH = os.path.join(DATAPATH,'valdata/wrong_ported_mask/')\n",
        "\n",
        "FIG_PATH = os.path.join(base,'fig/')\n",
        "os.makedirs(FIG_PATH,exist_ok= True)\n",
        "ACCUR_FIG_PATH = os.path.join(FIG_PATH,f'Accuracy_{MODEL_DESCRIPTION}.png')\n",
        "LOSS_FIG_PATH = os.path.join(FIG_PATH,f'Loss_{MODEL_DESCRIPTION}.png')\n",
        "\n",
        "\n",
        "# TESTPATH = os.path.join(base,'our_dataset/testdata/')\n",
        "# TEST_MASK_PATH = os.path.join(base,'our_dataset/testdata/mask/')\n",
        "# TEST_NOMASK_PATH = os.path.join(base,'our_dataset/testdata/no_mask/')\n",
        "\n",
        "WEIGHTS_PATH = os.path.join(base,'weights/')\n",
        "os.makedirs(WEIGHTS_PATH,exist_ok = True)\n",
        "WEIGHTS_FILE = os.path.join(WEIGHTS_PATH,f'{MODEL_DESCRIPTION}.h5')\n",
        "CHECKPOINTS_PATH = os.path.join(base, 'checkpoints/')\n",
        "HIST_PATH = os.path.join(base,'history/')\n",
        "HIST_FILE = os.path.join(HIST_PATH,f'{MODEL_DESCRIPTION}.csv')\n",
        "os.makedirs(TRAIN_PATH, exist_ok=True)\n",
        "os.makedirs(TRAIN_MASK_PATH, exist_ok=True)\n",
        "os.makedirs(TRAIN_NO_MASK_PATH, exist_ok=True)\n",
        "os.makedirs(TRAIN_WRONG_MASK_PATH, exist_ok=True)\n",
        "\n",
        "os.makedirs(VAL_PATH, exist_ok=True)\n",
        "os.makedirs(VAL_MASK_PATH, exist_ok=True)\n",
        "os.makedirs(VAL_NO_MASK_PATH, exist_ok=True)\n",
        "os.makedirs(VAL_WRONG_MASK_PATH, exist_ok=True)\n",
        "os.makedirs(HIST_PATH, exist_ok=True)\n",
        "\n",
        "trainable = False\n",
        "BATCH_SIZE = 64\n",
        "EPOCHS = 30\n",
        "LEARNING_RATE = 5e-5\n",
        "fine_tunning = True\n",
        "initial_weights = os.path.join(WEIGHTS_PATH,'3classes_simulated_MobNotTrainable.h5')"
      ],
      "execution_count": 393,
      "outputs": []
    },
    {
      "cell_type": "markdown",
      "metadata": {
        "id": "mbpiRURRoftt"
      },
      "source": [
        "Visualizing our data"
      ]
    },
    {
      "cell_type": "code",
      "metadata": {
        "id": "K0V3yAKtocsZ"
      },
      "source": [
        "def view(pth):\n",
        "    images = list()\n",
        "    for img in random.sample(os.listdir(pth),9):\n",
        "        images.append(img)\n",
        "    i = 0\n",
        "    fig,ax = plt.subplots(nrows=3, ncols=3, figsize=(30,20))\n",
        "    for row in range(3):\n",
        "        for col in range(3):\n",
        "            ax[row,col].imshow(cv2.imread(os.path.join(pth,images[i])))\n",
        "            i+=1"
      ],
      "execution_count": 394,
      "outputs": []
    },
    {
      "cell_type": "code",
      "metadata": {
        "colab": {
          "base_uri": "https://localhost:8080/"
        },
        "id": "HOx2PNf2Nt7Y",
        "outputId": "428391b3-b0bb-424d-987a-1cd7fab822d3"
      },
      "source": [
        "NumberMaskData = os.listdir(MASK_PATH)\n",
        "print(len(NumberMaskData))"
      ],
      "execution_count": 395,
      "outputs": [
        {
          "output_type": "stream",
          "text": [
            "298\n"
          ],
          "name": "stdout"
        }
      ]
    },
    {
      "cell_type": "code",
      "metadata": {
        "colab": {
          "base_uri": "https://localhost:8080/"
        },
        "id": "3rhaeRBNNzi0",
        "outputId": "e93e3f29-a9d0-443f-efde-3b8be5446da7"
      },
      "source": [
        "NumberNOMaskData = os.listdir(NO_MASK_PATH)\n",
        "print(len(NumberNOMaskData))"
      ],
      "execution_count": 396,
      "outputs": [
        {
          "output_type": "stream",
          "text": [
            "375\n"
          ],
          "name": "stdout"
        }
      ]
    },
    {
      "cell_type": "code",
      "metadata": {
        "colab": {
          "base_uri": "https://localhost:8080/"
        },
        "id": "Teb5CgK4g33R",
        "outputId": "0e68c34b-bbcf-4c06-dcc5-227ad4b55948"
      },
      "source": [
        "NumberWrongMaskData = os.listdir(WRONG_MASK_PATH)\n",
        "print(len(NumberWrongMaskData))"
      ],
      "execution_count": 397,
      "outputs": [
        {
          "output_type": "stream",
          "text": [
            "202\n"
          ],
          "name": "stdout"
        }
      ]
    },
    {
      "cell_type": "code",
      "metadata": {
        "id": "JigrrMVnolS-"
      },
      "source": [
        "# view(MASKPATH)"
      ],
      "execution_count": 398,
      "outputs": []
    },
    {
      "cell_type": "code",
      "metadata": {
        "id": "OKYkpeUho10A"
      },
      "source": [
        "# view(NOMASKPATH)"
      ],
      "execution_count": 399,
      "outputs": []
    },
    {
      "cell_type": "markdown",
      "metadata": {
        "id": "I0tPbBDno6Wr"
      },
      "source": [
        "Analysing our Data"
      ]
    },
    {
      "cell_type": "code",
      "metadata": {
        "colab": {
          "base_uri": "https://localhost:8080/",
          "height": 542
        },
        "id": "CDcsfzeeo5Sq",
        "outputId": "9cbfd0e1-a94e-4c5e-b639-0583f46c64a5"
      },
      "source": [
        "fig = go.Figure(\n",
        "    data=[go.Pie(labels=['WITHMASK','WITHOUTMASK','WRONGMASK'], \n",
        "        values=[NumberMaskData , NumberNOMaskData , NumberWrongMaskData ])\n",
        "    ])\n",
        "fig.show()"
      ],
      "execution_count": 400,
      "outputs": [
        {
          "output_type": "display_data",
          "data": {
            "text/html": [
              "<html>\n",
              "<head><meta charset=\"utf-8\" /></head>\n",
              "<body>\n",
              "    <div>\n",
              "            <script src=\"https://cdnjs.cloudflare.com/ajax/libs/mathjax/2.7.5/MathJax.js?config=TeX-AMS-MML_SVG\"></script><script type=\"text/javascript\">if (window.MathJax) {MathJax.Hub.Config({SVG: {font: \"STIX-Web\"}});}</script>\n",
              "                <script type=\"text/javascript\">window.PlotlyConfig = {MathJaxConfig: 'local'};</script>\n",
              "        <script src=\"https://cdn.plot.ly/plotly-latest.min.js\"></script>    \n",
              "            <div id=\"b374fe67-212e-420c-8884-6b110e9d618d\" class=\"plotly-graph-div\" style=\"height:525px; width:100%;\"></div>\n",
              "            <script type=\"text/javascript\">\n",
              "                \n",
              "                    window.PLOTLYENV=window.PLOTLYENV || {};\n",
              "                    \n",
              "                if (document.getElementById(\"b374fe67-212e-420c-8884-6b110e9d618d\")) {\n",
              "                    Plotly.newPlot(\n",
              "                        'b374fe67-212e-420c-8884-6b110e9d618d',\n",
              "                        [{\"labels\": [\"WITHMASK\", \"WITHOUTMASK\", \"WRONGMASK\"], \"type\": \"pie\", \"values\": [[\"frame4303.png\", \"frame4267.png\", \"frame4476.png\", \"frame4449.png\", \"frame4140.png\", \"frame4152.png\", \"frame4199.png\", \"frame4322.png\", \"frame4446.png\", \"frame4307.png\", \"frame4165.png\", \"frame4206.png\", \"frame4470.png\", \"frame4286.png\", \"frame4480.png\", \"frame4428.png\", \"frame4123.png\", \"frame4416.png\", \"frame4262.png\", \"frame4473.png\", \"frame4441.png\", \"frame4250.png\", \"frame4302.png\", \"frame4318.png\", \"frame4467.png\", \"frame4223.png\", \"frame4197.png\", \"frame4491.png\", \"frame4208.png\", \"frame4488.png\", \"frame4196.png\", \"frame4235.png\", \"frame4225.png\", \".DS_Store\", \"frame4233.png\", \"frame4339.png\", \"frame4453.png\", \"frame4291.png\", \"frame4429.png\", \"frame4280.png\", \"frame4487.png\", \"frame4338.png\", \"frame4436.png\", \"frame4443.png\", \"frame4164.png\", \"frame4156.png\", \"frame4323.png\", \"frame4292.png\", \"frame4248.png\", \"frame4294.png\", \"frame4202.png\", \"frame4455.png\", \"frame4324.png\", \"frame4357.png\", \"frame4471.png\", \"frame4340.png\", \"frame4365.png\", \"frame4237.png\", \"frame4251.png\", \"frame4163.png\", \"frame4168.png\", \"frame4240.png\", \"frame4190.png\", \"frame4266.png\", \"frame4452.png\", \"frame4451.png\", \"frame4434.png\", \"frame4288.png\", \"frame4371.png\", \"frame4397.png\", \"frame4244.png\", \"frame4406.png\", \"frame4153.png\", \"frame4468.png\", \"frame4166.png\", \"frame4400.png\", \"frame4194.png\", \"frame4358.png\", \"frame4312.png\", \"frame4316.png\", \"frame4347.png\", \"frame4478.png\", \"frame4263.png\", \"frame4349.png\", \"frame4464.png\", \"frame4325.png\", \"frame4359.png\", \"frame4420.png\", \"frame4271.png\", \"frame4254.png\", \"frame4456.png\", \"frame4407.png\", \"frame4388.png\", \"frame4178.png\", \"frame4275.png\", \"frame4122.png\", \"frame4490.png\", \"frame4128.png\", \"frame4485.png\", \"frame4390.png\", \"frame4136.png\", \"frame4201.png\", \"frame4391.png\", \"frame4145.png\", \"frame4146.png\", \"frame4245.png\", \"frame4459.png\", \"frame4283.png\", \"frame4389.png\", \"frame4277.png\", \"frame4457.png\", \"frame4503.png\", \"frame4151.png\", \"frame4169.png\", \"frame4257.png\", \"frame4173.png\", \"frame4477.png\", \"frame4258.png\", \"frame4392.png\", \"frame4295.png\", \"frame4141.png\", \"frame4337.png\", \"frame4144.png\", \"frame4353.png\", \"frame4176.png\", \"frame4444.png\", \"frame4131.png\", \"frame4260.png\", \"frame4351.png\", \"frame4191.png\", \"frame4192.png\", \"frame4438.png\", \"frame4200.png\", \"frame4167.png\", \"frame4241.png\", \"frame4147.png\", \"frame4256.png\", \"frame4212.png\", \"frame4419.png\", \"frame4177.png\", \"frame4139.png\", \"frame4315.png\", \"frame4175.png\", \"frame4479.png\", \"frame4329.png\", \"frame4331.png\", \"frame4157.png\", \"frame4138.png\", \"frame4373.png\", \"frame4252.png\", \"frame4343.png\", \"frame4249.png\", \"frame4484.png\", \"frame4126.png\", \"frame4483.png\", \"frame4500.png\", \"frame4332.png\", \"frame4242.png\", \"frame4393.png\", \"frame4321.png\", \"frame4243.png\", \"frame4185.png\", \"frame4205.png\", \"frame4195.png\", \"frame4403.png\", \"frame4224.png\", \"frame4424.png\", \"frame4127.png\", \"frame4158.png\", \"frame4304.png\", \"frame4360.png\", \"frame4130.png\", \"frame4497.png\", \"frame4161.png\", \"frame4149.png\", \"frame4255.png\", \"frame4308.png\", \"frame4239.png\", \"frame4279.png\", \"frame4465.png\", \"frame4363.png\", \"frame4272.png\", \"frame4133.png\", \"frame4313.png\", \"frame4293.png\", \"frame4504.png\", \"frame4481.png\", \"frame4352.png\", \"frame4401.png\", \"frame4150.png\", \"frame4143.png\", \"frame4450.png\", \"frame4379.png\", \"frame4399.png\", \"frame4246.png\", \"frame4372.png\", \"frame4210.png\", \"frame4182.png\", \"frame4377.png\", \"frame4442.png\", \"frame4430.png\", \"frame4375.png\", \"frame4261.png\", \"frame4300.png\", \"frame4431.png\", \"frame4499.png\", \"frame4238.png\", \"frame4264.png\", \"frame4289.png\", \"frame4482.png\", \"frame4344.png\", \"frame4174.png\", \"frame4395.png\", \"frame4314.png\", \"frame4159.png\", \"frame4189.png\", \"frame4320.png\", \"frame4281.png\", \"frame4394.png\", \"frame4458.png\", \"frame4460.png\", \"frame4475.png\", \"frame4440.png\", \"frame4334.png\", \"frame4231.png\", \"frame4330.png\", \"frame4160.png\", \"frame4298.png\", \"frame4466.png\", \"frame4274.png\", \"frame4253.png\", \"frame4301.png\", \"frame4367.png\", \"frame4386.png\", \"frame4370.png\", \"frame4259.png\", \"frame4276.png\", \"frame4427.png\", \"frame4124.png\", \"frame4368.png\", \"frame4474.png\", \"frame4354.png\", \"frame4172.png\", \"frame4336.png\", \"frame4129.png\", \"frame4341.png\", \"frame4405.png\", \"frame4305.png\", \"frame4356.png\", \"frame4270.png\", \"frame4183.png\", \"frame4387.png\", \"frame4335.png\", \"frame4362.png\", \"frame4170.png\", \"frame4439.png\", \"frame4333.png\", \"frame4350.png\", \"frame4230.png\", \"frame4326.png\", \"frame4204.png\", \"frame4342.png\", \"frame4309.png\", \"frame4269.png\", \"frame4234.png\", \"frame4447.png\", \"frame4346.png\", \"frame4319.png\", \"frame4398.png\", \"frame4437.png\", \"frame4268.png\", \"frame4137.png\", \"frame4366.png\", \"frame4345.png\", \"frame4285.png\", \"frame4472.png\", \"frame4369.png\", \"frame4448.png\", \"frame4209.png\", \"frame4348.png\", \"frame4287.png\", \"frame4502.png\", \"frame4211.png\", \"frame4317.png\", \"frame4193.png\", \"frame4232.png\", \"frame4203.png\", \"frame4327.png\", \"frame4299.png\", \"frame4355.png\", \"frame4125.png\", \"frame4284.png\", \"frame4461.png\", \"frame4306.png\", \"frame4435.png\", \"frame4454.png\", \"frame4155.png\", \"frame4501.png\"], [\"frame5128.png\", \"frame5205.png\", \"frame5553.png\", \"frame5503.png\", \"frame5373.png\", \"frame5496.png\", \"frame5571.png\", \"frame5367.png\", \"frame5517.png\", \"frame5677.png\", \"frame5530.png\", \"frame5639.png\", \"frame5599.png\", \"frame5387.png\", \"frame5554.png\", \"frame5188.png\", \"frame5654.png\", \"frame5544.png\", \"frame5446.png\", \"frame5265.png\", \"frame5693.png\", \"frame5362.png\", \"frame5628.png\", \"frame5579.png\", \"frame5186.png\", \"frame5630.png\", \"frame5644.png\", \"frame5381.png\", \"frame5229.png\", \"frame5535.png\", \"frame5050.png\", \"frame5334.png\", \"frame5091.png\", \"frame5626.png\", \"frame5366.png\", \"frame5593.png\", \"frame5700.png\", \"frame5309.png\", \"frame5072.png\", \"frame5024.png\", \"frame5671.png\", \".DS_Store\", \"frame5560.png\", \"frame5591.png\", \"frame5552.png\", \"frame5638.png\", \"frame5505.png\", \"frame5487.png\", \"frame5173.png\", \"frame5522.png\", \"frame5244.png\", \"frame5177.png\", \"frame5261.png\", \"frame5507.png\", \"frame5255.png\", \"frame5258.png\", \"frame5524.png\", \"frame5687.png\", \"frame5666.png\", \"frame5410.png\", \"frame5572.png\", \"frame5179.png\", \"frame5343.png\", \"frame5384.png\", \"frame5613.png\", \"frame5175.png\", \"frame5699.png\", \"frame5369.png\", \"frame4990.png\", \"frame5480.png\", \"frame5548.png\", \"frame5193.png\", \"frame5650.png\", \"frame5088.png\", \"frame5576.png\", \"frame5647.png\", \"frame5183.png\", \"frame5520.png\", \"frame5368.png\", \"frame5578.png\", \"frame5634.png\", \"frame5001.png\", \"frame5301.png\", \"frame5308.png\", \"frame4992.png\", \"frame5388.png\", \"frame5329.png\", \"frame5394.png\", \"frame5491.png\", \"frame5493.png\", \"frame5573.png\", \"frame5689.png\", \"frame5616.png\", \"frame5511.png\", \"frame5264.png\", \"frame5500.png\", \"frame5321.png\", \"frame5223.png\", \"frame5257.png\", \"frame5651.png\", \"frame5352.png\", \"frame5674.png\", \"frame5580.png\", \"frame5556.png\", \"frame5509.png\", \"frame5661.png\", \"frame5692.png\", \"frame5469.png\", \"frame5623.png\", \"frame5627.png\", \"frame5471.png\", \"frame5129.png\", \"frame5629.png\", \"frame5390.png\", \"frame5056.png\", \"frame5527.png\", \"frame5588.png\", \"frame5670.png\", \"frame5563.png\", \"frame5467.png\", \"frame5466.png\", \"frame5697.png\", \"frame5012.png\", \"frame5494.png\", \"frame5682.png\", \"frame5597.png\", \"frame5512.png\", \"frame5164.png\", \"frame5227.png\", \"frame5664.png\", \"frame5645.png\", \"frame5295.png\", \"frame5095.png\", \"frame5272.png\", \"frame5641.png\", \"frame5559.png\", \"frame5304.png\", \"frame5657.png\", \"frame5608.png\", \"frame5691.png\", \"frame5020.png\", \"frame5495.png\", \"frame5230.png\", \"frame5583.png\", \"frame5658.png\", \"frame5498.png\", \"frame5018.png\", \"frame5074.png\", \"frame5680.png\", \"frame5622.png\", \"frame5648.png\", \"frame5592.png\", \"frame5349.png\", \"frame5479.png\", \"frame5636.png\", \"frame5516.png\", \"frame5070.png\", \"frame5703.png\", \"frame5096.png\", \"frame5439.png\", \"frame5502.png\", \"frame5278.png\", \"frame5612.png\", \"frame5125.png\", \"frame5678.png\", \"frame5350.png\", \"frame5483.png\", \"frame5675.png\", \"frame5604.png\", \"frame5415.png\", \"frame5291.png\", \"frame5328.png\", \"frame5660.png\", \"frame5033.png\", \"frame5656.png\", \"frame5098.png\", \"frame5414.png\", \"frame5191.png\", \"frame5241.png\", \"frame5585.png\", \"frame5683.png\", \"frame5518.png\", \"frame5567.png\", \"frame5594.png\", \"frame5363.png\", \"frame5532.png\", \"frame5015.png\", \"frame5337.png\", \"frame5690.png\", \"frame5600.png\", \"frame5176.png\", \"frame5615.png\", \"frame5292.png\", \"frame5546.png\", \"frame5323.png\", \"frame5399.png\", \"frame5557.png\", \"frame5665.png\", \"frame5262.png\", \"frame5097.png\", \"frame5523.png\", \"frame5038.png\", \"frame5642.png\", \"frame5655.png\", \"frame5310.png\", \"frame5545.png\", \"frame5688.png\", \"frame5667.png\", \"frame5528.png\", \"frame5620.png\", \"frame5566.png\", \"frame5236.png\", \"frame5696.png\", \"frame5391.png\", \"frame5302.png\", \"frame5287.png\", \"frame5539.png\", \"frame5472.png\", \"frame5481.png\", \"frame5425.png\", \"frame5596.png\", \"frame5330.png\", \"frame5610.png\", \"frame5281.png\", \"frame5570.png\", \"frame5238.png\", \"frame5508.png\", \"frame5202.png\", \"frame5396.png\", \"frame5646.png\", \"frame5488.png\", \"frame5318.png\", \"frame5286.png\", \"frame5684.png\", \"frame5562.png\", \"frame5586.png\", \"frame5574.png\", \"frame5317.png\", \"frame5320.png\", \"frame5521.png\", \"frame5492.png\", \"frame5031.png\", \"frame5032.png\", \"frame5459.png\", \"frame5515.png\", \"frame5397.png\", \"frame5115.png\", \"frame5637.png\", \"frame5581.png\", \"frame5386.png\", \"frame5485.png\", \"frame5550.png\", \"frame5353.png\", \"frame5619.png\", \"frame5653.png\", \"frame5603.png\", \"frame5189.png\", \"frame5253.png\", \"frame5377.png\", \"frame5590.png\", \"frame5704.png\", \"frame5250.png\", \"frame5178.png\", \"frame5126.png\", \"frame5409.png\", \"frame5606.png\", \"frame5107.png\", \"frame5643.png\", \"frame5497.png\", \"frame5621.png\", \"frame5540.png\", \"frame5413.png\", \"frame5379.png\", \"frame5482.png\", \"frame5685.png\", \"frame5478.png\", \"frame5501.png\", \"frame5601.png\", \"frame5514.png\", \"frame5008.png\", \"frame5403.png\", \"frame5631.png\", \"frame5614.png\", \"frame5533.png\", \"frame5625.png\", \"frame5582.png\", \"frame5339.png\", \"frame5536.png\", \"frame5246.png\", \"frame5404.png\", \"frame5490.png\", \"frame5389.png\", \"frame5256.png\", \"frame5575.png\", \"frame5673.png\", \"frame5549.png\", \"frame5324.png\", \"frame5607.png\", \"frame5251.png\", \"frame5537.png\", \"frame5247.png\", \"frame5598.png\", \"frame5649.png\", \"frame5659.png\", \"frame5464.png\", \"frame5618.png\", \"frame5595.png\", \"frame5489.png\", \"frame5662.png\", \"frame5534.png\", \"frame5242.png\", \"frame5587.png\", \"frame5473.png\", \"frame5686.png\", \"frame5565.png\", \"frame5423.png\", \"frame5652.png\", \"frame5447.png\", \"frame5049.png\", \"frame5375.png\", \"frame5273.png\", \"frame5605.png\", \"frame5668.png\", \"frame5624.png\", \"frame5290.png\", \"frame5326.png\", \"frame5609.png\", \"frame5635.png\", \"frame5676.png\", \"frame5210.png\", \"frame5014.png\", \"frame5219.png\", \"frame5019.png\", \"frame5513.png\", \"frame5325.png\", \"frame5695.png\", \"frame4991.png\", \"frame5640.png\", \"frame5346.png\", \"frame5679.png\", \"frame5569.png\", \"frame5463.png\", \"frame5023.png\", \"frame5538.png\", \"frame5280.png\", \"frame5224.png\", \"frame5561.png\", \"frame5510.png\", \"frame5484.png\", \"frame5426.png\", \"frame5617.png\", \"frame5701.png\", \"frame5663.png\", \"frame5245.png\", \"frame5022.png\", \"frame5406.png\", \"frame5085.png\", \"frame5174.png\", \"frame5541.png\", \"frame5347.png\", \"frame5525.png\", \"frame5694.png\", \"frame5336.png\", \"frame5303.png\", \"frame5468.png\", \"frame5225.png\", \"frame5519.png\", \"frame5004.png\", \"frame5027.png\", \"frame5543.png\", \"frame5269.png\", \"frame5348.png\", \"frame5460.png\", \"frame5633.png\", \"frame5506.png\"], [\"frame5289.png\", \"frame3198.png\", \"frame3840.png\", \"frame2204.png\", \"frame2095.png\", \"frame1362.png\", \"frame1488.png\", \"frame4590.png\", \"frame4297.png\", \"0024.png\", \"frame3456.png\", \"frame0034.png\", \"frame2981.png\", \"frame1062.png\", \"frame4318.png\", \"frame1306.png\", \"frame0843.png\", \"frame0732.png\", \"frame1296.png\", \"frame1963.png\", \"frame1068.png\", \"frame1561.png\", \"0020.png\", \"frame3061.png\", \"frame0305.png\", \"frame0815.png\", \"frame5986.png\", \"frame4507.png\", \"frame1299.png\", \"frame5358.png\", \"frame2954.png\", \"frame5162.png\", \"frame1707.png\", \"frame4583.png\", \"frame4732.png\", \"frame4135.png\", \"frame5981.png\", \"frame2858.png\", \"frame3496.png\", \"frame2590.png\", \"frame3924.png\", \"frame3286.png\", \"frame1253.png\", \"frame5308.png\", \"frame4508.png\", \"frame6006.png\", \"frame2132.png\", \"frame1490.png\", \"frame0935.png\", \"frame1026.png\", \"0006.png\", \"frame4263.png\", \"frame1802.png\", \"frame4207.png\", \"frame3027.png\", \"frame4759.png\", \"frame0703.png\", \"frame0751.png\", \"frame1193.png\", \"frame5456.png\", \"frame4407.png\", \"frame3574.png\", \"frame3586.png\", \"frame2505.png\", \"0015.png\", \"0005.png\", \"frame2273.png\", \"frame4645.png\", \"0019.png\", \"frame3697.png\", \"frame4740.png\", \"frame1147.png\", \"frame4283.png\", \"frame3089.png\", \"frame1134.png\", \"frame4647.png\", \"frame3892.png\", \"frame0722.png\", \"frame0677.png\", \"frame6021.png\", \"frame1127.png\", \"frame2968.png\", \"frame5983.png\", \"frame3302.png\", \"frame3734.png\", \"frame0415.png\", \"frame1631.png\", \"frame1632.png\", \"frame4111.png\", \"frame3584.png\", \"frame4748.png\", \"frame2130.png\", \"0022.png\", \"0014.png\", \"frame3838.png\", \"frame1610.png\", \"frame0580.png\", \"frame3629.png\", \"frame4868.png\", \"frame3553.png\", \"frame4773.png\", \"frame3129.png\", \"frame1728.png\", \"frame2977.png\", \"frame4760.png\", \"frame5980.png\", \"frame2735.png\", \"0013.png\", \"frame6023.png\", \"0017.png\", \"frame3400.png\", \"frame3755.png\", \"frame3759.png\", \"frame4548.png\", \"frame0585.png\", \"0016.png\", \"frame0551.png\", \"frame0413.png\", \"frame0740.png\", \"frame2507.png\", \"frame5993.png\", \"frame3411.png\", \"frame0256.png\", \"frame3919.png\", \"frame1762.png\", \"frame3634.png\", \"frame4865.png\", \"0004.png\", \"frame3748.png\", \"frame5400.png\", \"frame1101.png\", \"frame3275.png\", \"0002.png\", \"frame0201.png\", \"frame0452.png\", \"0025.png\", \"frame5886.png\", \"frame4980.png\", \"frame0674.png\", \"frame0292.png\", \"frame6010.png\", \"frame1339.png\", \"frame3403.png\", \"frame4789.png\", \"frame2013.png\", \"frame0763.png\", \"frame4512.png\", \"frame1406.png\", \"frame3458.png\", \"frame5989.png\", \"frame5982.png\", \"frame0711.png\", \"frame3447.png\", \"frame0767.png\", \"frame4888.png\", \"frame1000.png\", \"frame0017.png\", \"frame6015.png\", \"frame3885.png\", \"frame4404.png\", \"frame3450.png\", \"frame4129.png\", \"frame3139.png\", \"frame1753.png\", \"frame0821.png\", \"frame2461.png\", \"frame4988.png\", \"frame2730.png\", \"frame0994.png\", \"frame1126.png\", \"frame6016.png\", \"frame1975.png\", \"frame5995.png\", \"frame3951.png\", \"0007.png\", \"frame0634.png\", \"frame1136.png\", \"0003.png\", \"frame1267.png\", \"frame4376.png\", \"frame1781.png\", \"frame5992.png\", \"frame1325.png\", \"frame1054.png\", \"frame4514.png\", \"0023.png\", \"frame2628.png\", \"frame4311.png\", \"frame1898.png\", \"frame3075.png\", \"frame0010.png\", \"0026.png\", \"0018.png\", \"frame0764.png\", \"0000.png\", \"frame0875.png\", \"frame4819.png\", \"frame0817.png\", \"0001.png\", \"frame3606.png\", \"frame6019.png\", \"frame1133.png\"]]}],\n",
              "                        {\"template\": {\"data\": {\"bar\": [{\"error_x\": {\"color\": \"#2a3f5f\"}, \"error_y\": {\"color\": \"#2a3f5f\"}, \"marker\": {\"line\": {\"color\": \"#E5ECF6\", \"width\": 0.5}}, \"type\": \"bar\"}], \"barpolar\": [{\"marker\": {\"line\": {\"color\": \"#E5ECF6\", \"width\": 0.5}}, \"type\": \"barpolar\"}], \"carpet\": [{\"aaxis\": {\"endlinecolor\": \"#2a3f5f\", \"gridcolor\": \"white\", \"linecolor\": \"white\", \"minorgridcolor\": \"white\", \"startlinecolor\": \"#2a3f5f\"}, \"baxis\": {\"endlinecolor\": \"#2a3f5f\", \"gridcolor\": \"white\", \"linecolor\": \"white\", \"minorgridcolor\": \"white\", \"startlinecolor\": \"#2a3f5f\"}, \"type\": \"carpet\"}], \"choropleth\": [{\"colorbar\": {\"outlinewidth\": 0, \"ticks\": \"\"}, \"type\": \"choropleth\"}], \"contour\": [{\"colorbar\": {\"outlinewidth\": 0, \"ticks\": \"\"}, \"colorscale\": [[0.0, \"#0d0887\"], [0.1111111111111111, \"#46039f\"], [0.2222222222222222, \"#7201a8\"], [0.3333333333333333, \"#9c179e\"], [0.4444444444444444, \"#bd3786\"], [0.5555555555555556, \"#d8576b\"], [0.6666666666666666, \"#ed7953\"], [0.7777777777777778, \"#fb9f3a\"], [0.8888888888888888, \"#fdca26\"], [1.0, \"#f0f921\"]], \"type\": \"contour\"}], \"contourcarpet\": [{\"colorbar\": {\"outlinewidth\": 0, \"ticks\": \"\"}, \"type\": \"contourcarpet\"}], \"heatmap\": [{\"colorbar\": {\"outlinewidth\": 0, \"ticks\": \"\"}, \"colorscale\": [[0.0, \"#0d0887\"], [0.1111111111111111, \"#46039f\"], [0.2222222222222222, \"#7201a8\"], [0.3333333333333333, \"#9c179e\"], [0.4444444444444444, \"#bd3786\"], [0.5555555555555556, \"#d8576b\"], [0.6666666666666666, \"#ed7953\"], [0.7777777777777778, \"#fb9f3a\"], [0.8888888888888888, \"#fdca26\"], [1.0, \"#f0f921\"]], \"type\": \"heatmap\"}], \"heatmapgl\": [{\"colorbar\": {\"outlinewidth\": 0, \"ticks\": \"\"}, \"colorscale\": [[0.0, \"#0d0887\"], [0.1111111111111111, \"#46039f\"], [0.2222222222222222, \"#7201a8\"], [0.3333333333333333, \"#9c179e\"], [0.4444444444444444, \"#bd3786\"], [0.5555555555555556, \"#d8576b\"], [0.6666666666666666, \"#ed7953\"], [0.7777777777777778, \"#fb9f3a\"], [0.8888888888888888, \"#fdca26\"], [1.0, \"#f0f921\"]], \"type\": \"heatmapgl\"}], \"histogram\": [{\"marker\": {\"colorbar\": {\"outlinewidth\": 0, \"ticks\": \"\"}}, \"type\": \"histogram\"}], \"histogram2d\": [{\"colorbar\": {\"outlinewidth\": 0, \"ticks\": \"\"}, \"colorscale\": [[0.0, \"#0d0887\"], [0.1111111111111111, \"#46039f\"], [0.2222222222222222, \"#7201a8\"], [0.3333333333333333, \"#9c179e\"], [0.4444444444444444, \"#bd3786\"], [0.5555555555555556, \"#d8576b\"], [0.6666666666666666, \"#ed7953\"], [0.7777777777777778, \"#fb9f3a\"], [0.8888888888888888, \"#fdca26\"], [1.0, \"#f0f921\"]], \"type\": \"histogram2d\"}], \"histogram2dcontour\": [{\"colorbar\": {\"outlinewidth\": 0, \"ticks\": \"\"}, \"colorscale\": [[0.0, \"#0d0887\"], [0.1111111111111111, \"#46039f\"], [0.2222222222222222, \"#7201a8\"], [0.3333333333333333, \"#9c179e\"], [0.4444444444444444, \"#bd3786\"], [0.5555555555555556, \"#d8576b\"], [0.6666666666666666, \"#ed7953\"], [0.7777777777777778, \"#fb9f3a\"], [0.8888888888888888, \"#fdca26\"], [1.0, \"#f0f921\"]], \"type\": \"histogram2dcontour\"}], \"mesh3d\": [{\"colorbar\": {\"outlinewidth\": 0, \"ticks\": \"\"}, \"type\": \"mesh3d\"}], \"parcoords\": [{\"line\": {\"colorbar\": {\"outlinewidth\": 0, \"ticks\": \"\"}}, \"type\": \"parcoords\"}], \"pie\": [{\"automargin\": true, \"type\": \"pie\"}], \"scatter\": [{\"marker\": {\"colorbar\": {\"outlinewidth\": 0, \"ticks\": \"\"}}, \"type\": \"scatter\"}], \"scatter3d\": [{\"line\": {\"colorbar\": {\"outlinewidth\": 0, \"ticks\": \"\"}}, \"marker\": {\"colorbar\": {\"outlinewidth\": 0, \"ticks\": \"\"}}, \"type\": \"scatter3d\"}], \"scattercarpet\": [{\"marker\": {\"colorbar\": {\"outlinewidth\": 0, \"ticks\": \"\"}}, \"type\": \"scattercarpet\"}], \"scattergeo\": [{\"marker\": {\"colorbar\": {\"outlinewidth\": 0, \"ticks\": \"\"}}, \"type\": \"scattergeo\"}], \"scattergl\": [{\"marker\": {\"colorbar\": {\"outlinewidth\": 0, \"ticks\": \"\"}}, \"type\": \"scattergl\"}], \"scattermapbox\": [{\"marker\": {\"colorbar\": {\"outlinewidth\": 0, \"ticks\": \"\"}}, \"type\": \"scattermapbox\"}], \"scatterpolar\": [{\"marker\": {\"colorbar\": {\"outlinewidth\": 0, \"ticks\": \"\"}}, \"type\": \"scatterpolar\"}], \"scatterpolargl\": [{\"marker\": {\"colorbar\": {\"outlinewidth\": 0, \"ticks\": \"\"}}, \"type\": \"scatterpolargl\"}], \"scatterternary\": [{\"marker\": {\"colorbar\": {\"outlinewidth\": 0, \"ticks\": \"\"}}, \"type\": \"scatterternary\"}], \"surface\": [{\"colorbar\": {\"outlinewidth\": 0, \"ticks\": \"\"}, \"colorscale\": [[0.0, \"#0d0887\"], [0.1111111111111111, \"#46039f\"], [0.2222222222222222, \"#7201a8\"], [0.3333333333333333, \"#9c179e\"], [0.4444444444444444, \"#bd3786\"], [0.5555555555555556, \"#d8576b\"], [0.6666666666666666, \"#ed7953\"], [0.7777777777777778, \"#fb9f3a\"], [0.8888888888888888, \"#fdca26\"], [1.0, \"#f0f921\"]], \"type\": \"surface\"}], \"table\": [{\"cells\": {\"fill\": {\"color\": \"#EBF0F8\"}, \"line\": {\"color\": \"white\"}}, \"header\": {\"fill\": {\"color\": \"#C8D4E3\"}, \"line\": {\"color\": \"white\"}}, \"type\": \"table\"}]}, \"layout\": {\"annotationdefaults\": {\"arrowcolor\": \"#2a3f5f\", \"arrowhead\": 0, \"arrowwidth\": 1}, \"coloraxis\": {\"colorbar\": {\"outlinewidth\": 0, \"ticks\": \"\"}}, \"colorscale\": {\"diverging\": [[0, \"#8e0152\"], [0.1, \"#c51b7d\"], [0.2, \"#de77ae\"], [0.3, \"#f1b6da\"], [0.4, \"#fde0ef\"], [0.5, \"#f7f7f7\"], [0.6, \"#e6f5d0\"], [0.7, \"#b8e186\"], [0.8, \"#7fbc41\"], [0.9, \"#4d9221\"], [1, \"#276419\"]], \"sequential\": [[0.0, \"#0d0887\"], [0.1111111111111111, \"#46039f\"], [0.2222222222222222, \"#7201a8\"], [0.3333333333333333, \"#9c179e\"], [0.4444444444444444, \"#bd3786\"], [0.5555555555555556, \"#d8576b\"], [0.6666666666666666, \"#ed7953\"], [0.7777777777777778, \"#fb9f3a\"], [0.8888888888888888, \"#fdca26\"], [1.0, \"#f0f921\"]], \"sequentialminus\": [[0.0, \"#0d0887\"], [0.1111111111111111, \"#46039f\"], [0.2222222222222222, \"#7201a8\"], [0.3333333333333333, \"#9c179e\"], [0.4444444444444444, \"#bd3786\"], [0.5555555555555556, \"#d8576b\"], [0.6666666666666666, \"#ed7953\"], [0.7777777777777778, \"#fb9f3a\"], [0.8888888888888888, \"#fdca26\"], [1.0, \"#f0f921\"]]}, \"colorway\": [\"#636efa\", \"#EF553B\", \"#00cc96\", \"#ab63fa\", \"#FFA15A\", \"#19d3f3\", \"#FF6692\", \"#B6E880\", \"#FF97FF\", \"#FECB52\"], \"font\": {\"color\": \"#2a3f5f\"}, \"geo\": {\"bgcolor\": \"white\", \"lakecolor\": \"white\", \"landcolor\": \"#E5ECF6\", \"showlakes\": true, \"showland\": true, \"subunitcolor\": \"white\"}, \"hoverlabel\": {\"align\": \"left\"}, \"hovermode\": \"closest\", \"mapbox\": {\"style\": \"light\"}, \"paper_bgcolor\": \"white\", \"plot_bgcolor\": \"#E5ECF6\", \"polar\": {\"angularaxis\": {\"gridcolor\": \"white\", \"linecolor\": \"white\", \"ticks\": \"\"}, \"bgcolor\": \"#E5ECF6\", \"radialaxis\": {\"gridcolor\": \"white\", \"linecolor\": \"white\", \"ticks\": \"\"}}, \"scene\": {\"xaxis\": {\"backgroundcolor\": \"#E5ECF6\", \"gridcolor\": \"white\", \"gridwidth\": 2, \"linecolor\": \"white\", \"showbackground\": true, \"ticks\": \"\", \"zerolinecolor\": \"white\"}, \"yaxis\": {\"backgroundcolor\": \"#E5ECF6\", \"gridcolor\": \"white\", \"gridwidth\": 2, \"linecolor\": \"white\", \"showbackground\": true, \"ticks\": \"\", \"zerolinecolor\": \"white\"}, \"zaxis\": {\"backgroundcolor\": \"#E5ECF6\", \"gridcolor\": \"white\", \"gridwidth\": 2, \"linecolor\": \"white\", \"showbackground\": true, \"ticks\": \"\", \"zerolinecolor\": \"white\"}}, \"shapedefaults\": {\"line\": {\"color\": \"#2a3f5f\"}}, \"ternary\": {\"aaxis\": {\"gridcolor\": \"white\", \"linecolor\": \"white\", \"ticks\": \"\"}, \"baxis\": {\"gridcolor\": \"white\", \"linecolor\": \"white\", \"ticks\": \"\"}, \"bgcolor\": \"#E5ECF6\", \"caxis\": {\"gridcolor\": \"white\", \"linecolor\": \"white\", \"ticks\": \"\"}}, \"title\": {\"x\": 0.05}, \"xaxis\": {\"automargin\": true, \"gridcolor\": \"white\", \"linecolor\": \"white\", \"ticks\": \"\", \"title\": {\"standoff\": 15}, \"zerolinecolor\": \"white\", \"zerolinewidth\": 2}, \"yaxis\": {\"automargin\": true, \"gridcolor\": \"white\", \"linecolor\": \"white\", \"ticks\": \"\", \"title\": {\"standoff\": 15}, \"zerolinecolor\": \"white\", \"zerolinewidth\": 2}}}},\n",
              "                        {\"responsive\": true}\n",
              "                    ).then(function(){\n",
              "                            \n",
              "var gd = document.getElementById('b374fe67-212e-420c-8884-6b110e9d618d');\n",
              "var x = new MutationObserver(function (mutations, observer) {{\n",
              "        var display = window.getComputedStyle(gd).display;\n",
              "        if (!display || display === 'none') {{\n",
              "            console.log([gd, 'removed!']);\n",
              "            Plotly.purge(gd);\n",
              "            observer.disconnect();\n",
              "        }}\n",
              "}});\n",
              "\n",
              "// Listen for the removal of the full notebook cells\n",
              "var notebookContainer = gd.closest('#notebook-container');\n",
              "if (notebookContainer) {{\n",
              "    x.observe(notebookContainer, {childList: true});\n",
              "}}\n",
              "\n",
              "// Listen for the clearing of the current output cell\n",
              "var outputEl = gd.closest('.output');\n",
              "if (outputEl) {{\n",
              "    x.observe(outputEl, {childList: true});\n",
              "}}\n",
              "\n",
              "                        })\n",
              "                };\n",
              "                \n",
              "            </script>\n",
              "        </div>\n",
              "</body>\n",
              "</html>"
            ]
          },
          "metadata": {
            "tags": []
          }
        }
      ]
    },
    {
      "cell_type": "code",
      "metadata": {
        "id": "eYL-ZRg3Xw8F"
      },
      "source": [
        "def split_data(SOURCE, TRAINING, TESTING, SPLIT_SIZE):\n",
        "    dataset = []\n",
        "    \n",
        "    for unitData in os.listdir(SOURCE):\n",
        "        data = SOURCE + unitData\n",
        "        if(os.path.getsize(data) > 0):\n",
        "            dataset.append(unitData)\n",
        "        else:\n",
        "            print('Skipped ' + unitData)\n",
        "            print('Invalid file i.e zero size')\n",
        "    \n",
        "    train_set_length = int(len(dataset) * SPLIT_SIZE)\n",
        "    test_set_length = int(len(dataset) - train_set_length)\n",
        "    shuffled_set = random.sample(dataset, len(dataset))\n",
        "    train_set = dataset[0:train_set_length]\n",
        "    test_set = dataset[-test_set_length:]\n",
        "       \n",
        "    for unitData in train_set:\n",
        "        temp_train_set = SOURCE + unitData\n",
        "        final_train_set = TRAINING + unitData\n",
        "        copyfile(temp_train_set, final_train_set)\n",
        "    \n",
        "    for unitData in test_set:\n",
        "        temp_test_set = SOURCE + unitData\n",
        "        final_test_set = TESTING + unitData\n",
        "        copyfile(temp_test_set, final_test_set)\n"
      ],
      "execution_count": 401,
      "outputs": []
    },
    {
      "cell_type": "markdown",
      "metadata": {
        "id": "t3GHvyNVg33T"
      },
      "source": [
        "To clean the NO_MASK and MASK folders"
      ]
    },
    {
      "cell_type": "code",
      "metadata": {
        "colab": {
          "base_uri": "https://localhost:8080/"
        },
        "id": "ZhkuKf-73Jge",
        "outputId": "764d2ae8-5d65-41bb-cb7a-d8b9cdd9d3fd"
      },
      "source": [
        "\n",
        "from pathlib import Path\n",
        "\n",
        "\n",
        "[f.unlink() for f in Path(TRAIN_MASK_PATH).glob(\"*\") if f.is_file()] \n",
        "[f.unlink() for f in Path(TRAIN_NO_MASK_PATH).glob(\"*\") if f.is_file()] \n",
        "\n",
        "# [f.unlink() for f in Path(TEST_MASK_PATH).glob(\"*\") if f.is_file()] \n",
        "# [f.unlink() for f in Path(TEST_NOMASK_PATH).glob(\"*\") if f.is_file()] \n",
        "\n",
        "[f.unlink() for f in Path(VAL_MASK_PATH).glob(\"*\") if f.is_file()] \n",
        "[f.unlink() for f in Path(VAL_NO_MASK_PATH).glob(\"*\") if f.is_file()] \n",
        "\n",
        "print(\"The training set mask/no_mask/wrong_mask sizes: (\",len(os.listdir(TRAIN_MASK_PATH)),\",\",len(os.listdir(TRAIN_NO_MASK_PATH)),\",\",len(os.listdir(TRAIN_WRONG_MASK_PATH)),\")\")\n",
        "print(\"The test set mask/no_mask/wrong_mask sizes: (\",len(os.listdir(VAL_MASK_PATH)),\",\",len(os.listdir(VAL_NO_MASK_PATH)),\",\",len(os.listdir(VAL_WRONG_MASK_PATH)),\")\")\n",
        "# print(\"The test set mask/no_mask sizes: (\",len(os.listdir(TEST_MASK_PATH)),\",\",len(os.listdir(TEST_NOMASK_PATH)),\")\")"
      ],
      "execution_count": 402,
      "outputs": [
        {
          "output_type": "stream",
          "text": [
            "The training set mask/no_mask/wrong_mask sizes: ( 0 , 0 , 195 )\n",
            "The test set mask/no_mask/wrong_mask sizes: ( 0 , 0 , 75 )\n"
          ],
          "name": "stdout"
        }
      ]
    },
    {
      "cell_type": "code",
      "metadata": {
        "id": "gkUscnSJ6c9q"
      },
      "source": [
        "split_size = .80\n",
        "split_data(MASK_PATH, TRAIN_MASK_PATH, VAL_MASK_PATH, split_size)\n",
        "split_data(NO_MASK_PATH, TRAIN_NO_MASK_PATH, VAL_NO_MASK_PATH, split_size)\n",
        "split_data(WRONG_MASK_PATH, TRAIN_WRONG_MASK_PATH, VAL_WRONG_MASK_PATH, split_size)"
      ],
      "execution_count": 403,
      "outputs": []
    },
    {
      "cell_type": "code",
      "metadata": {
        "colab": {
          "base_uri": "https://localhost:8080/"
        },
        "id": "jqoOCbhqZ_sv",
        "outputId": "d038a068-b68c-41ba-fe8f-65ebb8147faf"
      },
      "source": [
        "print(\"The number of images with facemask in the training set:\", len(os.listdir(TRAIN_MASK_PATH)))\n",
        "print(\"The number of images without facemask in the training set:\", len(os.listdir(TRAIN_NO_MASK_PATH)))\n",
        "print(\"The number of images with improperly worn mask in the validation set:\", len(os.listdir(TRAIN_WRONG_MASK_PATH)))\n",
        "print(\"The number of images with facemask in the test set:\", len(os.listdir(VAL_MASK_PATH)))\n",
        "print(\"The number of images without facemask in the validation set:\", len(os.listdir(VAL_NO_MASK_PATH)))\n",
        "print(\"The number of images with improperly worn mask in the validation set:\", len(os.listdir(VAL_WRONG_MASK_PATH)))"
      ],
      "execution_count": 404,
      "outputs": [
        {
          "output_type": "stream",
          "text": [
            "The number of images with facemask in the training set: 238\n",
            "The number of images without facemask in the training set: 300\n",
            "The number of images with improperly worn mask in the validation set: 195\n",
            "The number of images with facemask in the test set: 60\n",
            "The number of images without facemask in the validation set: 75\n",
            "The number of images with improperly worn mask in the validation set: 75\n"
          ],
          "name": "stdout"
        }
      ]
    },
    {
      "cell_type": "markdown",
      "metadata": {
        "id": "Lr2JjdJvqeub"
      },
      "source": [
        "Preparing Data Input Pipelines"
      ]
    },
    {
      "cell_type": "code",
      "metadata": {
        "id": "ilHByNmeqkLU"
      },
      "source": [
        "trainGen = ImageDataGenerator(rescale=1.0/255.0,\n",
        "                              rotation_range=40,\n",
        "                              width_shift_range=0.2,\n",
        "                              height_shift_range=0.2,\n",
        "                              shear_range=0.2,\n",
        "                              zoom_range=0.2,\n",
        "                              horizontal_flip=True,\n",
        "                              fill_mode='nearest')\n",
        "\n",
        "testGen = ImageDataGenerator(\n",
        "    rescale= 1.0/255.0,\n",
        ")"
      ],
      "execution_count": 405,
      "outputs": []
    },
    {
      "cell_type": "markdown",
      "metadata": {
        "id": "6TUlf2e8oyFA"
      },
      "source": [
        "Ref : https://medium.com/@vijayabhaskar96/tutorial-image-classification-with-keras-flow-from-directory-and-generators-95f75ebe5720"
      ]
    },
    {
      "cell_type": "code",
      "metadata": {
        "colab": {
          "base_uri": "https://localhost:8080/"
        },
        "id": "fGJpM8Wpqq-V",
        "outputId": "5f482880-aadb-4cf8-a2b4-108345ff6b9f"
      },
      "source": [
        "train = trainGen.flow_from_directory(\n",
        "    TRAIN_PATH, \n",
        "    target_size=(128, 128),\n",
        "    classes=['no_mask','well_ported_mask', 'wrong_ported_mask'],\n",
        "    class_mode='categorical', \n",
        "    batch_size=BATCH_SIZE, \n",
        "    shuffle=True,\n",
        ")\n",
        "\n",
        "validation = testGen.flow_from_directory(\n",
        "    VAL_PATH, \n",
        "    target_size=(128, 128),\n",
        "    classes=['no_mask','well_ported_mask', 'wrong_ported_mask'],\n",
        "    class_mode='categorical', \n",
        "    batch_size=BATCH_SIZE, \n",
        "    shuffle=False,\n",
        ")\n"
      ],
      "execution_count": 406,
      "outputs": [
        {
          "output_type": "stream",
          "text": [
            "Found 731 images belonging to 3 classes.\n",
            "Found 210 images belonging to 3 classes.\n"
          ],
          "name": "stdout"
        }
      ]
    },
    {
      "cell_type": "markdown",
      "metadata": {
        "id": "-sOA0E9yrX9l"
      },
      "source": [
        "Model Building"
      ]
    },
    {
      "cell_type": "code",
      "metadata": {
        "id": "03a2IsIKrbT9"
      },
      "source": [
        "mob = MobileNetV2(\n",
        "    input_shape = (128,128,3),\n",
        "    include_top = False,\n",
        "    weights = 'imagenet',\n",
        ")\n",
        "mob.trainable = trainable\n"
      ],
      "execution_count": 407,
      "outputs": []
    },
    {
      "cell_type": "markdown",
      "metadata": {
        "id": "Q_zjt00p9t8P"
      },
      "source": [
        "TRANSFER TRAINING"
      ]
    },
    {
      "cell_type": "code",
      "metadata": {
        "colab": {
          "base_uri": "https://localhost:8080/"
        },
        "id": "RVIRf6kZrlVc",
        "outputId": "93fdb56b-0305-49b5-8bad-ac7440e16957"
      },
      "source": [
        "model = Sequential()\n",
        "model.add(mob)\n",
        "model.add(GlobalMaxPool2D())\n",
        "model.add(Dense(64,activation='relu'))\n",
        "model.add(Dropout(0.3))\n",
        "model.add(Dense(3,activation='softmax'))\n",
        "model.summary()"
      ],
      "execution_count": 408,
      "outputs": [
        {
          "output_type": "stream",
          "text": [
            "Model: \"sequential_14\"\n",
            "_________________________________________________________________\n",
            "Layer (type)                 Output Shape              Param #   \n",
            "=================================================================\n",
            "mobilenetv2_1.00_128 (Functi (None, 4, 4, 1280)        2257984   \n",
            "_________________________________________________________________\n",
            "global_max_pooling2d_14 (Glo (None, 1280)              0         \n",
            "_________________________________________________________________\n",
            "dense_28 (Dense)             (None, 64)                81984     \n",
            "_________________________________________________________________\n",
            "dropout_14 (Dropout)         (None, 64)                0         \n",
            "_________________________________________________________________\n",
            "dense_29 (Dense)             (None, 3)                 195       \n",
            "=================================================================\n",
            "Total params: 2,340,163\n",
            "Trainable params: 82,179\n",
            "Non-trainable params: 2,257,984\n",
            "_________________________________________________________________\n"
          ],
          "name": "stdout"
        }
      ]
    },
    {
      "cell_type": "code",
      "metadata": {
        "id": "OrKJ_lz1roTy"
      },
      "source": [
        "model.compile(optimizer=Adam(learning_rate=LEARNING_RATE),loss='categorical_crossentropy',metrics=['accuracy'])\n",
        "\n",
        "if fine_tunning:\n",
        "  model.load_weights( initial_weights )"
      ],
      "execution_count": 409,
      "outputs": []
    },
    {
      "cell_type": "code",
      "metadata": {
        "id": "4RC1YrWorrKd"
      },
      "source": [
        "# checkpoint_filepath3 = \"/content/drive/My Drive/PROJET S9/Classification/Codes/check_points3\"\n",
        "\n",
        "checkpoint = ModelCheckpoint(\n",
        "    CHECKPOINTS_PATH,\n",
        "    monitor='val_loss',\n",
        "    verbose=1,\n",
        "    save_best_only=True,\n",
        "    save_weights_only=True,\n",
        "    mode='auto'\n",
        ")"
      ],
      "execution_count": 410,
      "outputs": []
    },
    {
      "cell_type": "markdown",
      "metadata": {
        "id": "36AIYdsOH1b5"
      },
      "source": [
        "\n",
        "Ref : https://towardsdatascience.com/a-practical-introduction-to-early-stopping-in-machine-learning-550ac88bc8fd"
      ]
    },
    {
      "cell_type": "code",
      "metadata": {
        "id": "huV-oDJsH2Bl"
      },
      "source": [
        "early_stopping = EarlyStopping(monitor='val_loss', \n",
        "                                patience=5, \n",
        "                                min_delta=0.001, \n",
        "                                mode='max')\n",
        "# while monitoring val_accuraccy model achieve 1.00 result at 17 epochs"
      ],
      "execution_count": 411,
      "outputs": []
    },
    {
      "cell_type": "markdown",
      "metadata": {
        "id": "YcM2fB7MxbTI"
      },
      "source": [
        "Ref : https://www.geeksforgeeks.org/keras-fit-and-keras-fit_generator/"
      ]
    },
    {
      "cell_type": "code",
      "metadata": {
        "colab": {
          "base_uri": "https://localhost:8080/"
        },
        "id": "8DLNC5jHyT6d",
        "outputId": "33691ed5-d0ae-4303-c89f-af5034af912e"
      },
      "source": [
        "STEP_SIZE_TRAIN=train.n//train.batch_size\n",
        "STEP_SIZE_VALID=validation.n//validation.batch_size\n",
        "\n",
        "print(\"Steps in training set:\", STEP_SIZE_TRAIN)\n",
        "print(\"Steps in validation set:\", STEP_SIZE_VALID)"
      ],
      "execution_count": 412,
      "outputs": [
        {
          "output_type": "stream",
          "text": [
            "Steps in training set: 11\n",
            "Steps in validation set: 3\n"
          ],
          "name": "stdout"
        }
      ]
    },
    {
      "cell_type": "code",
      "metadata": {
        "colab": {
          "base_uri": "https://localhost:8080/"
        },
        "id": "wh7e8qiKrtnW",
        "outputId": "fc29d24e-4f91-42f4-a330-6d008ff5de22"
      },
      "source": [
        "history = model.fit(train,\n",
        "                    steps_per_epoch=STEP_SIZE_TRAIN,\n",
        "                    validation_data=validation,\n",
        "                    validation_steps=STEP_SIZE_VALID,\n",
        "                    epochs=EPOCHS \n",
        ")\n",
        "\n"
      ],
      "execution_count": 413,
      "outputs": [
        {
          "output_type": "stream",
          "text": [
            "Epoch 1/30\n",
            "11/11 [==============================] - 6s 389ms/step - loss: 2.8275 - accuracy: 0.5109 - val_loss: 1.9711 - val_accuracy: 0.4792\n",
            "Epoch 2/30\n",
            "11/11 [==============================] - 3s 272ms/step - loss: 2.0816 - accuracy: 0.5061 - val_loss: 1.6791 - val_accuracy: 0.5052\n",
            "Epoch 3/30\n",
            "11/11 [==============================] - 3s 272ms/step - loss: 1.5744 - accuracy: 0.5310 - val_loss: 1.5150 - val_accuracy: 0.5104\n",
            "Epoch 4/30\n",
            "11/11 [==============================] - 3s 257ms/step - loss: 1.4020 - accuracy: 0.5254 - val_loss: 1.3836 - val_accuracy: 0.5156\n",
            "Epoch 5/30\n",
            "11/11 [==============================] - 3s 262ms/step - loss: 1.1462 - accuracy: 0.5607 - val_loss: 1.2641 - val_accuracy: 0.5104\n",
            "Epoch 6/30\n",
            "11/11 [==============================] - 3s 262ms/step - loss: 1.1245 - accuracy: 0.5490 - val_loss: 1.1658 - val_accuracy: 0.5156\n",
            "Epoch 7/30\n",
            "11/11 [==============================] - 3s 259ms/step - loss: 0.9141 - accuracy: 0.6284 - val_loss: 1.0938 - val_accuracy: 0.5208\n",
            "Epoch 8/30\n",
            "11/11 [==============================] - 3s 260ms/step - loss: 1.0671 - accuracy: 0.5536 - val_loss: 1.0357 - val_accuracy: 0.5521\n",
            "Epoch 9/30\n",
            "11/11 [==============================] - 3s 259ms/step - loss: 0.9065 - accuracy: 0.5843 - val_loss: 0.9868 - val_accuracy: 0.5521\n",
            "Epoch 10/30\n",
            "11/11 [==============================] - 3s 280ms/step - loss: 0.9127 - accuracy: 0.6138 - val_loss: 0.9469 - val_accuracy: 0.5625\n",
            "Epoch 11/30\n",
            "11/11 [==============================] - 3s 265ms/step - loss: 0.8975 - accuracy: 0.5877 - val_loss: 0.9150 - val_accuracy: 0.5885\n",
            "Epoch 12/30\n",
            "11/11 [==============================] - 3s 266ms/step - loss: 0.9074 - accuracy: 0.6171 - val_loss: 0.8915 - val_accuracy: 0.5885\n",
            "Epoch 13/30\n",
            "11/11 [==============================] - 3s 278ms/step - loss: 0.7902 - accuracy: 0.6466 - val_loss: 0.8757 - val_accuracy: 0.5781\n",
            "Epoch 14/30\n",
            "11/11 [==============================] - 3s 260ms/step - loss: 0.7893 - accuracy: 0.6227 - val_loss: 0.8581 - val_accuracy: 0.5885\n",
            "Epoch 15/30\n",
            "11/11 [==============================] - 3s 260ms/step - loss: 0.8167 - accuracy: 0.6610 - val_loss: 0.8417 - val_accuracy: 0.5885\n",
            "Epoch 16/30\n",
            "11/11 [==============================] - 3s 257ms/step - loss: 0.8482 - accuracy: 0.6033 - val_loss: 0.8257 - val_accuracy: 0.5990\n",
            "Epoch 17/30\n",
            "11/11 [==============================] - 3s 257ms/step - loss: 0.7879 - accuracy: 0.6271 - val_loss: 0.8104 - val_accuracy: 0.5938\n",
            "Epoch 18/30\n",
            "11/11 [==============================] - 3s 257ms/step - loss: 0.7949 - accuracy: 0.6356 - val_loss: 0.7962 - val_accuracy: 0.5990\n",
            "Epoch 19/30\n",
            "11/11 [==============================] - 3s 256ms/step - loss: 0.7399 - accuracy: 0.6579 - val_loss: 0.7855 - val_accuracy: 0.6094\n",
            "Epoch 20/30\n",
            "11/11 [==============================] - 3s 258ms/step - loss: 0.7481 - accuracy: 0.6662 - val_loss: 0.7811 - val_accuracy: 0.6250\n",
            "Epoch 21/30\n",
            "11/11 [==============================] - 3s 256ms/step - loss: 0.7203 - accuracy: 0.6579 - val_loss: 0.7743 - val_accuracy: 0.6250\n",
            "Epoch 22/30\n",
            "11/11 [==============================] - 3s 257ms/step - loss: 0.7602 - accuracy: 0.6466 - val_loss: 0.7667 - val_accuracy: 0.6146\n",
            "Epoch 23/30\n",
            "11/11 [==============================] - 3s 260ms/step - loss: 0.7172 - accuracy: 0.6921 - val_loss: 0.7593 - val_accuracy: 0.6198\n",
            "Epoch 24/30\n",
            "11/11 [==============================] - 3s 269ms/step - loss: 0.7147 - accuracy: 0.6626 - val_loss: 0.7483 - val_accuracy: 0.6198\n",
            "Epoch 25/30\n",
            "11/11 [==============================] - 3s 258ms/step - loss: 0.7458 - accuracy: 0.6624 - val_loss: 0.7391 - val_accuracy: 0.6302\n",
            "Epoch 26/30\n",
            "11/11 [==============================] - 3s 259ms/step - loss: 0.7356 - accuracy: 0.6325 - val_loss: 0.7350 - val_accuracy: 0.6354\n",
            "Epoch 27/30\n",
            "11/11 [==============================] - 3s 258ms/step - loss: 0.6933 - accuracy: 0.6719 - val_loss: 0.7233 - val_accuracy: 0.6250\n",
            "Epoch 28/30\n",
            "11/11 [==============================] - 3s 275ms/step - loss: 0.6729 - accuracy: 0.6808 - val_loss: 0.7179 - val_accuracy: 0.6198\n",
            "Epoch 29/30\n",
            "11/11 [==============================] - 3s 257ms/step - loss: 0.7585 - accuracy: 0.6549 - val_loss: 0.7094 - val_accuracy: 0.6302\n",
            "Epoch 30/30\n",
            "11/11 [==============================] - 3s 260ms/step - loss: 0.6824 - accuracy: 0.6676 - val_loss: 0.7016 - val_accuracy: 0.6406\n"
          ],
          "name": "stdout"
        }
      ]
    },
    {
      "cell_type": "code",
      "metadata": {
        "id": "k9-8NKN17EFO"
      },
      "source": [
        "import pandas as pd\n",
        "\n",
        "hist_df = pd.DataFrame(history.history) \n",
        "\n",
        "with open(HIST_FILE, mode='w') as f:\n",
        "    hist_df.to_csv(f)\n"
      ],
      "execution_count": 414,
      "outputs": []
    },
    {
      "cell_type": "code",
      "metadata": {
        "id": "RLJbWgrZtwvh"
      },
      "source": [
        "# The model weights (that are considered the best) are loaded into the model.\n",
        "model.save_weights(WEIGHTS_FILE)\n",
        "#model.load_weights(checkpoint_filepath2)"
      ],
      "execution_count": 415,
      "outputs": []
    },
    {
      "cell_type": "code",
      "metadata": {
        "colab": {
          "base_uri": "https://localhost:8080/"
        },
        "id": "VqM4qWqusAt_",
        "outputId": "5e4349cd-02fc-46ad-d337-62823e539209"
      },
      "source": [
        "model.evaluate(validation, steps=STEP_SIZE_VALID)"
      ],
      "execution_count": 416,
      "outputs": [
        {
          "output_type": "stream",
          "text": [
            "3/3 [==============================] - 0s 60ms/step - loss: 0.7016 - accuracy: 0.6406\n"
          ],
          "name": "stdout"
        },
        {
          "output_type": "execute_result",
          "data": {
            "text/plain": [
              "[0.701612651348114, 0.640625]"
            ]
          },
          "metadata": {
            "tags": []
          },
          "execution_count": 416
        }
      ]
    },
    {
      "cell_type": "code",
      "metadata": {
        "id": "RFjleLxzAkb1"
      },
      "source": [
        "# summarize history for accuracy\n",
        "\n",
        "# to write in a good resolution - accuracy\n",
        "plt.figure(num=None, figsize=(8, 6), dpi=320)\n",
        "plt.plot(history.history['accuracy'])\n",
        "plt.plot(history.history['val_accuracy'])\n",
        "plt.title('model accuracy')\n",
        "plt.ylabel('accuracy')\n",
        "plt.xlabel('epoch')\n",
        "plt.legend(['train', 'val'], loc='upper left')\n",
        "plt.grid()\n",
        "plt.savefig(ACCUR_FIG_PATH)\n",
        "plt.close()\n",
        "\n",
        "# to write in a good resolution - loss\n",
        "plt.figure(num=None, figsize=(8, 6), dpi=320)\n",
        "plt.plot(history.history['loss'])\n",
        "plt.plot(history.history['val_loss'])\n",
        "plt.title('model loss')\n",
        "plt.ylabel('loss')\n",
        "plt.xlabel('epoch')\n",
        "plt.legend(['train', 'val'], loc='upper left')\n",
        "plt.grid()\n",
        "plt.savefig(LOSS_FIG_PATH)\n",
        "plt.close()"
      ],
      "execution_count": 417,
      "outputs": []
    },
    {
      "cell_type": "code",
      "metadata": {
        "colab": {
          "base_uri": "https://localhost:8080/",
          "height": 573
        },
        "id": "jY5oGu-5KcMN",
        "outputId": "db448a81-2a23-4ce6-da85-3f8f755e93ce"
      },
      "source": [
        "#for quick visualization - accuracy\n",
        "plt.plot(history.history['accuracy'])\n",
        "plt.plot(history.history['val_accuracy'])\n",
        "plt.title('model accuracy')\n",
        "plt.ylabel('accuracy')\n",
        "plt.xlabel('epoch')\n",
        "plt.legend(['train', 'val'], loc='upper left')\n",
        "plt.show()\n",
        "# summarize history for loss\n",
        "plt.plot(history.history['loss'])\n",
        "plt.plot(history.history['val_loss'])\n",
        "plt.title('model loss')\n",
        "plt.ylabel('loss')\n",
        "plt.xlabel('epoch')\n",
        "plt.legend(['train', 'val'], loc='upper left')\n",
        "plt.show()"
      ],
      "execution_count": 418,
      "outputs": [
        {
          "output_type": "display_data",
          "data": {
            "image/png": "[encoded data removed]",
            "text/plain": [
              "<Figure size 432x288 with 1 Axes>"
            ]
          },
          "metadata": {
            "tags": [],
            "needs_background": "light"
          }
        },
        {
          "output_type": "display_data",
          "data": {
            "image/png": "[encoded data removed]",
            "text/plain": [
              "<Figure size 432x288 with 1 Axes>"
            ]
          },
          "metadata": {
            "tags": [],
            "needs_background": "light"
          }
        }
      ]
    },
    {
      "cell_type": "markdown",
      "metadata": {
        "id": "8smlLscX6lO2"
      },
      "source": [
        "Points to check : https://cs231n.github.io/neural-networks-3/#sanitycheck"
      ]
    },
    {
      "cell_type": "markdown",
      "metadata": {
        "id": "sGzRpgi_eMRQ"
      },
      "source": [
        "NOTES:\n",
        "\n",
        "- Tester les codes sur 10 images (e.g) pour voir si le code marche bien\n",
        "- Voir la sortie de MobileNetV2\n",
        "- Le CNN doit voir si la partie basse de l'image est dense\n",
        "- Peut etre ajouter un 3eme set de validation (pour le moment on a train et test)\n",
        "- Entrainer sur moins d'images au depart\n",
        "- Comment mesurer la vitesse d'execution du code??\n"
      ]
    }
  ]
}
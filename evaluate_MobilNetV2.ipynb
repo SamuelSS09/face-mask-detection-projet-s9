{
  "nbformat": 4,
  "nbformat_minor": 0,
  "metadata": {
    "accelerator": "GPU",
    "colab": {
      "name": "3class_MobilNetV2.ipynb",
      "provenance": [],
      "collapsed_sections": [],
      "machine_shape": "hm"
    },
    "kernelspec": {
      "display_name": "Python 3",
      "language": "python",
      "name": "python3"
    },
    "language_info": {
      "codemirror_mode": {
        "name": "ipython",
        "version": 3
      },
      "file_extension": ".py",
      "mimetype": "text/x-python",
      "name": "python",
      "nbconvert_exporter": "python",
      "pygments_lexer": "ipython3",
      "version": "3.8.3-final"
    }
  },
  "cells": [
    {
      "cell_type": "code",
      "metadata": {
        "id": "lF8TEwo1lr91"
      },
      "source": [
        "import numpy as np\n",
        "import pandas as pd\n",
        "import matplotlib.pyplot as plt\n",
        "import seaborn as sns\n",
        "import os\n",
        "import cv2\n",
        "import random\n",
        "import shutil\n",
        "\n",
        "from shutil import copyfile\n",
        "\n",
        "import plotly.express as px\n",
        "import plotly.graph_objects as go\n",
        "import plotly.figure_factory as ff\n",
        "from plotly.subplots import make_subplots\n",
        "\n",
        "import tensorflow as tf\n",
        "from tensorflow.keras.preprocessing.image import ImageDataGenerator\n",
        "from tensorflow.keras.models import Sequential\n",
        "from tensorflow.keras.applications import MobileNetV2\n",
        "from tensorflow.keras.layers import Dense, MaxPooling2D, Flatten, Dropout, Conv2D, GlobalAveragePooling2D, GlobalMaxPool2D\n",
        "from tensorflow.keras.optimizers import Adam"
      ],
      "execution_count": 14,
      "outputs": []
    },
    {
      "cell_type": "code",
      "metadata": {
        "id": "NqggW5GLmq-Q"
      },
      "source": [
        "base = ''\n",
        "\n",
        "DATAPATH = os.path.join('datasets/Testset/')\n",
        "MASK_PATH = os.path.join(DATAPATH,'well_ported_mask/')\n",
        "NO_MASK_PATH = os.path.join(DATAPATH,'no_mask/')\n",
        "WRONG_MASK_PATH = os.path.join(DATAPATH,'wrong_ported_mask/')\n",
        "WEIGHTS_PATH = os.path.join(base,'weights/')\n",
        "\n",
        "initial_weights = os.path.join(WEIGHTS_PATH,'3classes_FineTunning_mobTrainable.h5')\n",
        "trainable = True"
      ],
      "execution_count": 15,
      "outputs": []
    },
    {
      "cell_type": "code",
      "metadata": {
        "id": "K0V3yAKtocsZ"
      },
      "source": [
        "def view(pth):\n",
        "    images = list()\n",
        "    for img in random.sample(os.listdir(pth),9):\n",
        "        images.append(img)\n",
        "    i = 0\n",
        "    fig,ax = plt.subplots(nrows=3, ncols=3, figsize=(30,20))\n",
        "    for row in range(3):\n",
        "        for col in range(3):\n",
        "            ax[row,col].imshow(cv2.imread(os.path.join(pth,images[i])))\n",
        "            i+=1"
      ],
      "execution_count": 16,
      "outputs": []
    },
    {
      "cell_type": "code",
      "metadata": {
        "colab": {
          "base_uri": "https://localhost:8080/"
        },
        "id": "HOx2PNf2Nt7Y",
        "outputId": "428391b3-b0bb-424d-987a-1cd7fab822d3"
      },
      "source": [
        "NumberMaskData = os.listdir(MASK_PATH)\n",
        "print(len(NumberMaskData))"
      ],
      "execution_count": 17,
      "outputs": [
        {
          "output_type": "stream",
          "name": "stdout",
          "text": [
            "407\n"
          ]
        }
      ]
    },
    {
      "cell_type": "code",
      "metadata": {
        "colab": {
          "base_uri": "https://localhost:8080/"
        },
        "id": "3rhaeRBNNzi0",
        "outputId": "e93e3f29-a9d0-443f-efde-3b8be5446da7"
      },
      "source": [
        "NumberNOMaskData = os.listdir(NO_MASK_PATH)\n",
        "print(len(NumberNOMaskData))"
      ],
      "execution_count": 18,
      "outputs": [
        {
          "output_type": "stream",
          "name": "stdout",
          "text": [
            "179\n"
          ]
        }
      ]
    },
    {
      "cell_type": "code",
      "metadata": {
        "colab": {
          "base_uri": "https://localhost:8080/"
        },
        "id": "Teb5CgK4g33R",
        "outputId": "0e68c34b-bbcf-4c06-dcc5-227ad4b55948"
      },
      "source": [
        "NumberWrongMaskData = os.listdir(WRONG_MASK_PATH)\n",
        "print(len(NumberWrongMaskData))"
      ],
      "execution_count": 19,
      "outputs": [
        {
          "output_type": "stream",
          "name": "stdout",
          "text": [
            "481\n"
          ]
        }
      ]
    },
    {
      "cell_type": "code",
      "metadata": {
        "colab": {
          "base_uri": "https://localhost:8080/",
          "height": 542
        },
        "id": "CDcsfzeeo5Sq",
        "outputId": "9cbfd0e1-a94e-4c5e-b639-0583f46c64a5"
      },
      "source": [
        "fig = go.Figure(\n",
        "    data=[go.Pie(labels=['WITHMASK','WITHOUTMASK','WRONGMASK'], \n",
        "        values=[NumberMaskData , NumberNOMaskData , NumberWrongMaskData ])\n",
        "    ])\n",
        "fig.show()"
      ],
      "execution_count": 20,
      "outputs": [
        {
          "output_type": "display_data",
          "data": {
            "application/vnd.plotly.v1+json": {
              "config": {
                "plotlyServerURL": "https://plot.ly"
              },
              "data": [
                {
                  "labels": [
                    "WITHMASK",
                    "WITHOUTMASK",
                    "WRONGMASK"
                  ],
                  "type": "pie",
                  "values": [
                    [
                      "0515.png",
                      "0529.png",
                      "0703.png",
                      "0717.png",
                      "0059.png",
                      "0688.png",
                      "0677.png",
                      "1569.png",
                      "0663.png",
                      "0662.png",
                      "0676.png",
                      "0689.png",
                      "0058.png",
                      "0716.png",
                      "0702.png",
                      "0925.png",
                      "0528.png",
                      "0516.png",
                      "0258.png",
                      "0927.png",
                      "0714.png",
                      "0700.png",
                      "0853.png",
                      "0660.png",
                      "0674.png",
                      "0648.png",
                      "1556.png",
                      "1557.png",
                      "0649.png",
                      "0675.png",
                      "0661.png",
                      "1437.png",
                      "0701.png",
                      "0715.png",
                      "0926.png",
                      "0259.png",
                      "0517.png",
                      "0249.png",
                      "0513.png",
                      "0261.png",
                      "0711.png",
                      "0705.png",
                      "0659.png",
                      "0665.png",
                      "0671.png",
                      ".DS_Store",
                      "0329.png",
                      "0315.png",
                      "0314.png",
                      "0328.png",
                      "1022.png",
                      "0499.png",
                      "0670.png",
                      "0664.png",
                      "0658.png",
                      "0704.png",
                      "0710.png",
                      "0260.png",
                      "0248.png",
                      "0538.png",
                      "1418.png",
                      "0706.png",
                      "0712.png",
                      "0699.png",
                      "0672.png",
                      "0666.png",
                      "0316.png",
                      "0317.png",
                      "0667.png",
                      "0673.png",
                      "0698.png",
                      "0713.png",
                      "0707.png",
                      "0539.png",
                      "0589.png",
                      "0562.png",
                      "0204.png",
                      "0210.png",
                      "0576.png",
                      "0238.png",
                      "0947.png",
                      "0006.png",
                      "0012.png",
                      "1442.png",
                      "0199.png",
                      "0614.png",
                      "0600.png",
                      "1278.png",
                      "0628.png",
                      "0416.png",
                      "0402.png",
                      "0403.png",
                      "0417.png",
                      "0601.png",
                      "1279.png",
                      "0991.png",
                      "1443.png",
                      "0013.png",
                      "0007.png",
                      "0761.png",
                      "0946.png",
                      "0239.png",
                      "0211.png",
                      "0577.png",
                      "0563.png",
                      "0205.png",
                      "0588.png",
                      "0575.png",
                      "0213.png",
                      "0207.png",
                      "0561.png",
                      "0549.png",
                      "0978.png",
                      "0944.png",
                      "0011.png",
                      "0777.png",
                      "0005.png",
                      "1455.png",
                      "1441.png",
                      "0987.png",
                      "0603.png",
                      "0617.png",
                      "0398.png",
                      "0401.png",
                      "0415.png",
                      "0414.png",
                      "0400.png",
                      "0399.png",
                      "0602.png",
                      "0986.png",
                      "1440.png",
                      "0992.png",
                      "1454.png",
                      "0004.png",
                      "0010.png",
                      "0945.png",
                      "0979.png",
                      "0548.png",
                      "0206.png",
                      "0560.png",
                      "0574.png",
                      "0212.png",
                      "0558.png",
                      "0216.png",
                      "0570.png",
                      "0564.png",
                      "0202.png",
                      "0028.png",
                      "1444.png",
                      "0014.png",
                      "1281.png",
                      "0606.png",
                      "0389.png",
                      "0404.png",
                      "0410.png",
                      "0411.png",
                      "0405.png",
                      "0613.png",
                      "0607.png",
                      "1280.png",
                      "0001.png",
                      "0015.png",
                      "0940.png",
                      "0565.png",
                      "0203.png",
                      "0217.png",
                      "0571.png",
                      "0559.png",
                      "0598.png",
                      "0201.png",
                      "0567.png",
                      "0573.png",
                      "0215.png",
                      "0942.png",
                      "1447.png",
                      "0003.png",
                      "0017.png",
                      "0639.png",
                      "0611.png",
                      "0605.png",
                      "0413.png",
                      "0407.png",
                      "0406.png",
                      "0412.png",
                      "0604.png",
                      "0610.png",
                      "0638.png",
                      "0016.png",
                      "0002.png",
                      "0758.png",
                      "1446.png",
                      "0943.png",
                      "0572.png",
                      "0214.png",
                      "0200.png",
                      "0566.png",
                      "0599.png",
                      "0580.png",
                      "0594.png",
                      "0543.png",
                      "0225.png",
                      "0231.png",
                      "0557.png",
                      "0219.png",
                      "0782.png",
                      "0027.png",
                      "0635.png",
                      "0621.png",
                      "0351.png",
                      "image002.png",
                      "0608.png",
                      "0634.png",
                      "0026.png",
                      "0973.png",
                      "0783.png",
                      "0218.png",
                      "0230.png",
                      "0556.png",
                      "0542.png",
                      "0224.png",
                      "0595.png",
                      "0581.png",
                      "0597.png",
                      "0583.png",
                      "0554.png",
                      "0226.png",
                      "0568.png",
                      "0781.png",
                      "1448.png",
                      "0024.png",
                      "0018.png",
                      "0636.png",
                      "1272.png",
                      "0391.png",
                      "0420.png",
                      "0408.png",
                      "0409.png",
                      "0390.png",
                      "1273.png",
                      "1267.png",
                      "0637.png",
                      "0019.png",
                      "0025.png",
                      "1449.png",
                      "0780.png",
                      "0569.png",
                      "0227.png",
                      "0555.png",
                      "0233.png",
                      "0582.png",
                      "0596.png",
                      "0592.png",
                      "0586.png",
                      "0579.png",
                      "0237.png",
                      "0551.png",
                      "0545.png",
                      "0223.png",
                      "0948.png",
                      "0784.png",
                      "0009.png",
                      "0021.png",
                      "1277.png",
                      "0419.png",
                      "image010.png",
                      "0418.png",
                      "0632.png",
                      "0626.png",
                      "1276.png",
                      "1262.png",
                      "0020.png",
                      "0008.png",
                      "0785.png",
                      "0949.png",
                      "0975.png",
                      "0544.png",
                      "0222.png",
                      "0550.png",
                      "0578.png",
                      "0587.png",
                      "0593.png",
                      "0585.png",
                      "0208.png",
                      "0220.png",
                      "0546.png",
                      "0552.png",
                      "0234.png",
                      "0977.png",
                      "0778.png",
                      "0022.png",
                      "0988.png",
                      "1260.png",
                      "0630.png",
                      "0397.png",
                      "image007.png",
                      "0396.png",
                      "0631.png",
                      "1261.png",
                      "1275.png",
                      "0989.png",
                      "0023.png",
                      "0779.png",
                      "0553.png",
                      "0547.png",
                      "0209.png",
                      "0584.png",
                      "0246.png",
                      "0520.png",
                      "0534.png",
                      "0252.png",
                      "1414.png",
                      "0695.png",
                      "0681.png",
                      "0656.png",
                      "0642.png",
                      "0326.png",
                      "0327.png",
                      "1561.png",
                      "0643.png",
                      "0657.png",
                      "0864.png",
                      "0680.png",
                      "0694.png",
                      "0535.png",
                      "0253.png",
                      "0247.png",
                      "0521.png",
                      "0251.png",
                      "0537.png",
                      "0523.png",
                      "0245.png",
                      "1417.png",
                      "0709.png",
                      "0682.png",
                      "0696.png",
                      "0641.png",
                      "0655.png",
                      "1563.png",
                      "0669.png",
                      "0325.png",
                      "0331.png",
                      "0319.png",
                      "0318.png",
                      "0330.png",
                      "0324.png",
                      "0668.png",
                      "1562.png",
                      "0654.png",
                      "0640.png",
                      "0697.png",
                      "0683.png",
                      "0708.png",
                      "1416.png",
                      "0522.png",
                      "0244.png",
                      "0250.png",
                      "0536.png",
                      "0532.png",
                      "0254.png",
                      "0240.png",
                      "0526.png",
                      "1412.png",
                      "0863.png",
                      "0687.png",
                      "0693.png",
                      "0678.png",
                      "0644.png",
                      "0650.png",
                      "0320.png",
                      "0321.png",
                      "0651.png",
                      "0645.png",
                      "1573.png",
                      "0679.png",
                      "0692.png",
                      "0686.png",
                      "0057.png",
                      "0719.png",
                      "1413.png",
                      "0241.png",
                      "0527.png",
                      "0533.png",
                      "0255.png",
                      "0519.png",
                      "0525.png",
                      "0243.png",
                      "0257.png",
                      "1411.png",
                      "1439.png",
                      "0848.png",
                      "0690.png",
                      "0684.png",
                      "0653.png",
                      "0647.png",
                      "0323.png",
                      "0322.png",
                      "1558.png",
                      "0646.png",
                      "0652.png",
                      "0685.png",
                      "0691.png",
                      "1438.png",
                      "1410.png",
                      "0256.png",
                      "0524.png",
                      "0242.png",
                      "0518.png"
                    ],
                    [
                      "1186.png",
                      "1179.png",
                      "0071.png",
                      "0475.png",
                      "0449.png",
                      "0448.png",
                      "0474.png",
                      "0110.png",
                      "0070.png",
                      "0514.png",
                      "1178.png",
                      "0500.png",
                      "0299.png",
                      "1185.png",
                      "0099.png",
                      "0072.png",
                      "0489.png",
                      "0462.png",
                      "0476.png",
                      "0477.png",
                      "0463.png",
                      "0488.png",
                      "0107.png",
                      "0073.png",
                      "1184.png",
                      "1190.png",
                      "1180.png",
                      "0507.png",
                      "0088.png",
                      "0077.png",
                      "0498.png",
                      ".DS_Store",
                      "0467.png",
                      "0301.png",
                      "0473.png",
                      "0472.png",
                      "0466.png",
                      "0076.png",
                      "0089.png",
                      "0506.png",
                      "0512.png",
                      "1181.png",
                      "1183.png",
                      "0289.png",
                      "0504.png",
                      "0510.png",
                      "0074.png",
                      "0100.png",
                      "0458.png",
                      "0470.png",
                      "0464.png",
                      "0465.png",
                      "0471.png",
                      "0459.png",
                      "0075.png",
                      "0511.png",
                      "0505.png",
                      "0288.png",
                      "1182.png",
                      "1481.png",
                      "1495.png",
                      "1494.png",
                      "1480.png",
                      "1496.png",
                      "1482.png",
                      "1469.png",
                      "image008.png",
                      "0429.png",
                      "0428.png",
                      "image009.png",
                      "1468.png",
                      "1483.png",
                      "1497.png",
                      "1493.png",
                      "1487.png",
                      "1478.png",
                      "0438.png",
                      "0439.png",
                      "1479.png",
                      "1486.png",
                      "1492.png",
                      "1484.png",
                      "1490.png",
                      "1255.png",
                      "1491.png",
                      "1485.png",
                      "1488.png",
                      "1477.png",
                      "0437.png",
                      "0423.png",
                      "0436.png",
                      "1502.png",
                      "1476.png",
                      "1489.png",
                      "0540.png",
                      "1474.png",
                      "1500.png",
                      "0434.png",
                      "0435.png",
                      "1501.png",
                      "1475.png",
                      "0541.png",
                      "1471.png",
                      "0425.png",
                      "0431.png",
                      "0430.png",
                      "0424.png",
                      "1470.png",
                      "1499.png",
                      "1472.png",
                      "0432.png",
                      "0426.png",
                      "0427.png",
                      "0433.png",
                      "image006.png",
                      "image012.png",
                      "1473.png",
                      "1498.png",
                      "0285.png",
                      "0291.png",
                      "0508.png",
                      "0087.png",
                      "0497.png",
                      "0454.png",
                      "0440.png",
                      "0468.png",
                      "0469.png",
                      "0441.png",
                      "0455.png",
                      "0482.png",
                      "0496.png",
                      "0079.png",
                      "0086.png",
                      "0509.png",
                      "1171.png",
                      "0290.png",
                      "0292.png",
                      "0286.png",
                      "1173.png",
                      "0084.png",
                      "0480.png",
                      "0443.png",
                      "0457.png",
                      "0456.png",
                      "0442.png",
                      "0481.png",
                      "0085.png",
                      "1172.png",
                      "0287.png",
                      "0293.png",
                      "0297.png",
                      "1189.png",
                      "1176.png",
                      "0081.png",
                      "0491.png",
                      "0446.png",
                      "0452.png",
                      "0453.png",
                      "0447.png",
                      "0490.png",
                      "0080.png",
                      "1177.png",
                      "0296.png",
                      "0294.png",
                      "1175.png",
                      "0531.png",
                      "0082.png",
                      "0069.png",
                      "0109.png",
                      "0479.png",
                      "0451.png",
                      "0445.png",
                      "0444.png",
                      "0450.png",
                      "0068.png",
                      "0097.png",
                      "0083.png",
                      "1174.png",
                      "0295.png"
                    ],
                    [
                      "0298.png",
                      "1192.png",
                      "0267.png",
                      "0501.png",
                      "0273.png",
                      "0918.png",
                      "0924.png",
                      "0930.png",
                      "0878.png",
                      "0850.png",
                      "0844.png",
                      "0111.png",
                      "0105.png",
                      "1233.png",
                      "1227.png",
                      "0139.png",
                      "0887.png",
                      "0307.png",
                      "0306.png",
                      "0138.png",
                      "0886.png",
                      "1232.png",
                      "0104.png",
                      "0845.png",
                      "0851.png",
                      "0879.png",
                      "0931.png",
                      "0925.png",
                      "0919.png",
                      "1150.png",
                      "1144.png",
                      "0272.png",
                      "0266.png",
                      "1193.png",
                      "1191.png",
                      "0270.png",
                      "0264.png",
                      "0933.png",
                      "0847.png",
                      "0106.png",
                      "0112.png",
                      "0884.png",
                      "1542.png",
                      "1224.png",
                      "1230.png",
                      "0890.png",
                      "0304.png",
                      "0310.png",
                      "0311.png",
                      "0305.png",
                      "0649.png",
                      "1543.png",
                      "0885.png",
                      "0113.png",
                      "0852.png",
                      "0846.png",
                      "0729.png",
                      "0098.png",
                      "0932.png",
                      "1153.png",
                      "0265.png",
                      "0271.png",
                      "1194.png",
                      "1157.png",
                      "1143.png",
                      "0275.png",
                      "0936.png",
                      "0922.png",
                      "0856.png",
                      "0881.png",
                      "1553.png",
                      "0103.png",
                      "0117.png",
                      "0300.png",
                      "0499.png",
                      "0102.png",
                      "0880.png",
                      "0658.png",
                      "0857.png",
                      "0923.png",
                      "0937.png",
                      "0274.png",
                      "1195.png",
                      "1154.png",
                      "0262.png",
                      "1168.png",
                      "0276.png",
                      "0921.png",
                      "0935.png",
                      "0909.png",
                      "0869.png",
                      "1236.png",
                      "0128.png",
                      "0882.png",
                      "0114.png",
                      "0302.png",
                      "0303.png",
                      "0101.png",
                      "0115.png",
                      "0883.png",
                      "0129.png",
                      "1237.png",
                      "0868.png",
                      "0908.png",
                      "0934.png",
                      "0920.png",
                      "0277.png",
                      "1169.png",
                      "0263.png",
                      "1196.png",
                      "1126.png",
                      "0947.png",
                      "0953.png",
                      "0984.png",
                      "1456.png",
                      "0172.png",
                      "0614.png",
                      "0166.png",
                      "1250.png",
                      "1522.png",
                      "1244.png",
                      "1052.png",
                      "1046.png",
                      "1047.png",
                      "1053.png",
                      "1523.png",
                      "1245.png",
                      "1251.png",
                      "0629.png",
                      "0167.png",
                      "0173.png",
                      "0615.png",
                      "0826.png",
                      "0198.png",
                      "1457.png",
                      "0985.png",
                      "0952.png",
                      "0946.png",
                      "1127.png",
                      "1119.png",
                      "1125.png",
                      "0978.png",
                      "0788.png",
                      "0950.png",
                      "0944.png",
                      "0987.png",
                      "0818.png",
                      "0824.png",
                      "0165.png",
                      "0617.png",
                      "1509.png",
                      "0171.png",
                      "1247.png",
                      "0159.png",
                      "1521.png",
                      "1535.png",
                      "1078.png",
                      "1252.png",
                      "0158.png",
                      "1246.png",
                      "1520.png",
                      "1508.png",
                      "0616.png",
                      "0170.png",
                      "0164.png",
                      "0825.png",
                      "0819.png",
                      "0945.png",
                      "0951.png",
                      "0789.png",
                      "1124.png",
                      "1118.png",
                      "1120.png",
                      "1108.png",
                      "0955.png",
                      "0799.png",
                      "0941.png",
                      "0982.png",
                      "0821.png",
                      "0835.png",
                      "0809.png",
                      "1524.png",
                      "1242.png",
                      "1256.png",
                      "0148.png",
                      "1530.png",
                      "1518.png",
                      "0160.png",
                      "0174.png",
                      "0612.png",
                      "1097.png",
                      "1054.png",
                      "1068.png",
                      "1069.png",
                      "1096.png",
                      "0175.png",
                      "1519.png",
                      "0607.png",
                      "0161.png",
                      "0149.png",
                      "1531.png",
                      "1525.png",
                      "1243.png",
                      "0808.png",
                      "0834.png",
                      "0820.png",
                      "0983.png",
                      "0940.png",
                      "0798.png",
                      "0954.png",
                      "1109.png",
                      "1121.png",
                      "1123.png",
                      "0942.png",
                      "0981.png",
                      "0836.png",
                      "0188.png",
                      "0822.png",
                      "1533.png",
                      "1241.png",
                      "1527.png",
                      "0611.png",
                      "0177.png",
                      "0163.png",
                      "1057.png",
                      "0348.png",
                      "0162.png",
                      "0610.png",
                      "0176.png",
                      "1240.png",
                      "1526.png",
                      "1532.png",
                      "0823.png",
                      "0837.png",
                      "0189.png",
                      "0980.png",
                      "0943.png",
                      "1122.png",
                      "1107.png",
                      "1113.png",
                      "0796.png",
                      "1463.png",
                      "0190.png",
                      "0184.png",
                      "0812.png",
                      "0806.png",
                      "0153.png",
                      "0621.png",
                      "0147.png",
                      "0609.png",
                      "1517.png",
                      "1503.png",
                      "1098.png",
                      "0345.png",
                      "1073.png",
                      "1067.png",
                      "1066.png",
                      "image003.png",
                      "1072.png",
                      "0344.png",
                      "0422.png",
                      "1099.png",
                      "1516.png",
                      "0608.png",
                      "0620.png",
                      "0146.png",
                      "0152.png",
                      "0807.png",
                      "0813.png",
                      "0185.png",
                      "0191.png",
                      "1462.png",
                      "0797.png",
                      "1112.png",
                      "1106.png",
                      "1110.png",
                      "1104.png",
                      "0795.png",
                      "1460.png",
                      "0187.png",
                      "0193.png",
                      "0805.png",
                      "0811.png",
                      "0144.png",
                      "0622.png",
                      "1528.png",
                      "0150.png",
                      "0178.png",
                      "1514.png",
                      "0346.png",
                      "1058.png",
                      "image001.png",
                      "1070.png",
                      "1071.png",
                      "0421.png",
                      "1059.png",
                      "0347.png",
                      "1515.png",
                      "0179.png",
                      "1529.png",
                      "0151.png",
                      "0145.png",
                      "0623.png",
                      "0810.png",
                      "0804.png",
                      "0192.png",
                      "0186.png",
                      "0838.png",
                      "1461.png",
                      "0794.png",
                      "1105.png",
                      "1111.png",
                      "1115.png",
                      "1101.png",
                      "0960.png",
                      "0790.png",
                      "0948.png",
                      "1465.png",
                      "1459.png",
                      "0800.png",
                      "0814.png",
                      "0182.png",
                      "0196.png",
                      "0169.png",
                      "1511.png",
                      "0627.png",
                      "0141.png",
                      "0155.png",
                      "0633.png",
                      "image004.png",
                      "1061.png",
                      "1075.png",
                      "0343.png",
                      "1048.png",
                      "1074.png",
                      "image011.png",
                      "image005.png",
                      "0154.png",
                      "0626.png",
                      "0140.png",
                      "0168.png",
                      "1510.png",
                      "0197.png",
                      "0183.png",
                      "0815.png",
                      "0801.png",
                      "1458.png",
                      "1464.png",
                      "0949.png",
                      "0791.png",
                      "0961.png",
                      "1128.png",
                      "1100.png",
                      "1114.png",
                      "1102.png",
                      "1116.png",
                      "0977.png",
                      "0787.png",
                      "0793.png",
                      "1466.png",
                      "0817.png",
                      "0803.png",
                      "0195.png",
                      "0181.png",
                      "1512.png",
                      "0618.png",
                      "0630.png",
                      "1248.png",
                      "0156.png",
                      "0142.png",
                      "0624.png",
                      "1076.png",
                      "1077.png",
                      "0143.png",
                      "0625.png",
                      "0157.png",
                      "1249.png",
                      "1507.png",
                      "0619.png",
                      "1513.png",
                      "0180.png",
                      "0194.png",
                      "0802.png",
                      "0816.png",
                      "1467.png",
                      "0792.png",
                      "0786.png",
                      "0976.png",
                      "1117.png",
                      "1103.png",
                      "1158.png",
                      "1164.png",
                      "1170.png",
                      "0939.png",
                      "0093.png",
                      "0905.png",
                      "0911.png",
                      "0078.png",
                      "0859.png",
                      "0871.png",
                      "0865.png",
                      "0130.png",
                      "0118.png",
                      "0131.png",
                      "0864.png",
                      "0870.png",
                      "0858.png",
                      "0910.png",
                      "0904.png",
                      "0092.png",
                      "0938.png",
                      "1165.png",
                      "1159.png",
                      "0284.png",
                      "1167.png",
                      "0279.png",
                      "0090.png",
                      "0912.png",
                      "0906.png",
                      "0866.png",
                      "0872.png",
                      "0899.png",
                      "0127.png",
                      "0133.png",
                      "0132.png",
                      "0126.png",
                      "0873.png",
                      "0867.png",
                      "0907.png",
                      "0913.png",
                      "0091.png",
                      "0278.png",
                      "1166.png",
                      "0283.png",
                      "0268.png",
                      "1162.png",
                      "0917.png",
                      "0903.png",
                      "0718.png",
                      "0877.png",
                      "0888.png",
                      "1228.png",
                      "0136.png",
                      "0308.png",
                      "0309.png",
                      "0889.png",
                      "0137.png",
                      "1229.png",
                      "0645.png",
                      "0876.png",
                      "0862.png",
                      "0094.png",
                      "0902.png",
                      "0916.png",
                      "1163.png",
                      "0269.png",
                      "0282.png",
                      "0280.png",
                      "1161.png",
                      "0900.png",
                      "0914.png",
                      "0928.png",
                      "0096.png",
                      "0874.png",
                      "0860.png",
                      "0135.png",
                      "0653.png",
                      "0647.png",
                      "0492.png",
                      "0478.png",
                      "0646.png",
                      "0134.png",
                      "0108.png",
                      "0849.png",
                      "0861.png",
                      "0875.png",
                      "0929.png",
                      "0915.png",
                      "0901.png",
                      "1160.png",
                      "0281.png"
                    ]
                  ]
                }
              ],
              "layout": {
                "template": {
                  "data": {
                    "bar": [
                      {
                        "error_x": {
                          "color": "#2a3f5f"
                        },
                        "error_y": {
                          "color": "#2a3f5f"
                        },
                        "marker": {
                          "line": {
                            "color": "#E5ECF6",
                            "width": 0.5
                          }
                        },
                        "type": "bar"
                      }
                    ],
                    "barpolar": [
                      {
                        "marker": {
                          "line": {
                            "color": "#E5ECF6",
                            "width": 0.5
                          }
                        },
                        "type": "barpolar"
                      }
                    ],
                    "carpet": [
                      {
                        "aaxis": {
                          "endlinecolor": "#2a3f5f",
                          "gridcolor": "white",
                          "linecolor": "white",
                          "minorgridcolor": "white",
                          "startlinecolor": "#2a3f5f"
                        },
                        "baxis": {
                          "endlinecolor": "#2a3f5f",
                          "gridcolor": "white",
                          "linecolor": "white",
                          "minorgridcolor": "white",
                          "startlinecolor": "#2a3f5f"
                        },
                        "type": "carpet"
                      }
                    ],
                    "choropleth": [
                      {
                        "colorbar": {
                          "outlinewidth": 0,
                          "ticks": ""
                        },
                        "type": "choropleth"
                      }
                    ],
                    "contour": [
                      {
                        "colorbar": {
                          "outlinewidth": 0,
                          "ticks": ""
                        },
                        "colorscale": [
                          [
                            0,
                            "#0d0887"
                          ],
                          [
                            0.1111111111111111,
                            "#46039f"
                          ],
                          [
                            0.2222222222222222,
                            "#7201a8"
                          ],
                          [
                            0.3333333333333333,
                            "#9c179e"
                          ],
                          [
                            0.4444444444444444,
                            "#bd3786"
                          ],
                          [
                            0.5555555555555556,
                            "#d8576b"
                          ],
                          [
                            0.6666666666666666,
                            "#ed7953"
                          ],
                          [
                            0.7777777777777778,
                            "#fb9f3a"
                          ],
                          [
                            0.8888888888888888,
                            "#fdca26"
                          ],
                          [
                            1,
                            "#f0f921"
                          ]
                        ],
                        "type": "contour"
                      }
                    ],
                    "contourcarpet": [
                      {
                        "colorbar": {
                          "outlinewidth": 0,
                          "ticks": ""
                        },
                        "type": "contourcarpet"
                      }
                    ],
                    "heatmap": [
                      {
                        "colorbar": {
                          "outlinewidth": 0,
                          "ticks": ""
                        },
                        "colorscale": [
                          [
                            0,
                            "#0d0887"
                          ],
                          [
                            0.1111111111111111,
                            "#46039f"
                          ],
                          [
                            0.2222222222222222,
                            "#7201a8"
                          ],
                          [
                            0.3333333333333333,
                            "#9c179e"
                          ],
                          [
                            0.4444444444444444,
                            "#bd3786"
                          ],
                          [
                            0.5555555555555556,
                            "#d8576b"
                          ],
                          [
                            0.6666666666666666,
                            "#ed7953"
                          ],
                          [
                            0.7777777777777778,
                            "#fb9f3a"
                          ],
                          [
                            0.8888888888888888,
                            "#fdca26"
                          ],
                          [
                            1,
                            "#f0f921"
                          ]
                        ],
                        "type": "heatmap"
                      }
                    ],
                    "heatmapgl": [
                      {
                        "colorbar": {
                          "outlinewidth": 0,
                          "ticks": ""
                        },
                        "colorscale": [
                          [
                            0,
                            "#0d0887"
                          ],
                          [
                            0.1111111111111111,
                            "#46039f"
                          ],
                          [
                            0.2222222222222222,
                            "#7201a8"
                          ],
                          [
                            0.3333333333333333,
                            "#9c179e"
                          ],
                          [
                            0.4444444444444444,
                            "#bd3786"
                          ],
                          [
                            0.5555555555555556,
                            "#d8576b"
                          ],
                          [
                            0.6666666666666666,
                            "#ed7953"
                          ],
                          [
                            0.7777777777777778,
                            "#fb9f3a"
                          ],
                          [
                            0.8888888888888888,
                            "#fdca26"
                          ],
                          [
                            1,
                            "#f0f921"
                          ]
                        ],
                        "type": "heatmapgl"
                      }
                    ],
                    "histogram": [
                      {
                        "marker": {
                          "colorbar": {
                            "outlinewidth": 0,
                            "ticks": ""
                          }
                        },
                        "type": "histogram"
                      }
                    ],
                    "histogram2d": [
                      {
                        "colorbar": {
                          "outlinewidth": 0,
                          "ticks": ""
                        },
                        "colorscale": [
                          [
                            0,
                            "#0d0887"
                          ],
                          [
                            0.1111111111111111,
                            "#46039f"
                          ],
                          [
                            0.2222222222222222,
                            "#7201a8"
                          ],
                          [
                            0.3333333333333333,
                            "#9c179e"
                          ],
                          [
                            0.4444444444444444,
                            "#bd3786"
                          ],
                          [
                            0.5555555555555556,
                            "#d8576b"
                          ],
                          [
                            0.6666666666666666,
                            "#ed7953"
                          ],
                          [
                            0.7777777777777778,
                            "#fb9f3a"
                          ],
                          [
                            0.8888888888888888,
                            "#fdca26"
                          ],
                          [
                            1,
                            "#f0f921"
                          ]
                        ],
                        "type": "histogram2d"
                      }
                    ],
                    "histogram2dcontour": [
                      {
                        "colorbar": {
                          "outlinewidth": 0,
                          "ticks": ""
                        },
                        "colorscale": [
                          [
                            0,
                            "#0d0887"
                          ],
                          [
                            0.1111111111111111,
                            "#46039f"
                          ],
                          [
                            0.2222222222222222,
                            "#7201a8"
                          ],
                          [
                            0.3333333333333333,
                            "#9c179e"
                          ],
                          [
                            0.4444444444444444,
                            "#bd3786"
                          ],
                          [
                            0.5555555555555556,
                            "#d8576b"
                          ],
                          [
                            0.6666666666666666,
                            "#ed7953"
                          ],
                          [
                            0.7777777777777778,
                            "#fb9f3a"
                          ],
                          [
                            0.8888888888888888,
                            "#fdca26"
                          ],
                          [
                            1,
                            "#f0f921"
                          ]
                        ],
                        "type": "histogram2dcontour"
                      }
                    ],
                    "mesh3d": [
                      {
                        "colorbar": {
                          "outlinewidth": 0,
                          "ticks": ""
                        },
                        "type": "mesh3d"
                      }
                    ],
                    "parcoords": [
                      {
                        "line": {
                          "colorbar": {
                            "outlinewidth": 0,
                            "ticks": ""
                          }
                        },
                        "type": "parcoords"
                      }
                    ],
                    "pie": [
                      {
                        "automargin": true,
                        "type": "pie"
                      }
                    ],
                    "scatter": [
                      {
                        "marker": {
                          "colorbar": {
                            "outlinewidth": 0,
                            "ticks": ""
                          }
                        },
                        "type": "scatter"
                      }
                    ],
                    "scatter3d": [
                      {
                        "line": {
                          "colorbar": {
                            "outlinewidth": 0,
                            "ticks": ""
                          }
                        },
                        "marker": {
                          "colorbar": {
                            "outlinewidth": 0,
                            "ticks": ""
                          }
                        },
                        "type": "scatter3d"
                      }
                    ],
                    "scattercarpet": [
                      {
                        "marker": {
                          "colorbar": {
                            "outlinewidth": 0,
                            "ticks": ""
                          }
                        },
                        "type": "scattercarpet"
                      }
                    ],
                    "scattergeo": [
                      {
                        "marker": {
                          "colorbar": {
                            "outlinewidth": 0,
                            "ticks": ""
                          }
                        },
                        "type": "scattergeo"
                      }
                    ],
                    "scattergl": [
                      {
                        "marker": {
                          "colorbar": {
                            "outlinewidth": 0,
                            "ticks": ""
                          }
                        },
                        "type": "scattergl"
                      }
                    ],
                    "scattermapbox": [
                      {
                        "marker": {
                          "colorbar": {
                            "outlinewidth": 0,
                            "ticks": ""
                          }
                        },
                        "type": "scattermapbox"
                      }
                    ],
                    "scatterpolar": [
                      {
                        "marker": {
                          "colorbar": {
                            "outlinewidth": 0,
                            "ticks": ""
                          }
                        },
                        "type": "scatterpolar"
                      }
                    ],
                    "scatterpolargl": [
                      {
                        "marker": {
                          "colorbar": {
                            "outlinewidth": 0,
                            "ticks": ""
                          }
                        },
                        "type": "scatterpolargl"
                      }
                    ],
                    "scatterternary": [
                      {
                        "marker": {
                          "colorbar": {
                            "outlinewidth": 0,
                            "ticks": ""
                          }
                        },
                        "type": "scatterternary"
                      }
                    ],
                    "surface": [
                      {
                        "colorbar": {
                          "outlinewidth": 0,
                          "ticks": ""
                        },
                        "colorscale": [
                          [
                            0,
                            "#0d0887"
                          ],
                          [
                            0.1111111111111111,
                            "#46039f"
                          ],
                          [
                            0.2222222222222222,
                            "#7201a8"
                          ],
                          [
                            0.3333333333333333,
                            "#9c179e"
                          ],
                          [
                            0.4444444444444444,
                            "#bd3786"
                          ],
                          [
                            0.5555555555555556,
                            "#d8576b"
                          ],
                          [
                            0.6666666666666666,
                            "#ed7953"
                          ],
                          [
                            0.7777777777777778,
                            "#fb9f3a"
                          ],
                          [
                            0.8888888888888888,
                            "#fdca26"
                          ],
                          [
                            1,
                            "#f0f921"
                          ]
                        ],
                        "type": "surface"
                      }
                    ],
                    "table": [
                      {
                        "cells": {
                          "fill": {
                            "color": "#EBF0F8"
                          },
                          "line": {
                            "color": "white"
                          }
                        },
                        "header": {
                          "fill": {
                            "color": "#C8D4E3"
                          },
                          "line": {
                            "color": "white"
                          }
                        },
                        "type": "table"
                      }
                    ]
                  },
                  "layout": {
                    "annotationdefaults": {
                      "arrowcolor": "#2a3f5f",
                      "arrowhead": 0,
                      "arrowwidth": 1
                    },
                    "coloraxis": {
                      "colorbar": {
                        "outlinewidth": 0,
                        "ticks": ""
                      }
                    },
                    "colorscale": {
                      "diverging": [
                        [
                          0,
                          "#8e0152"
                        ],
                        [
                          0.1,
                          "#c51b7d"
                        ],
                        [
                          0.2,
                          "#de77ae"
                        ],
                        [
                          0.3,
                          "#f1b6da"
                        ],
                        [
                          0.4,
                          "#fde0ef"
                        ],
                        [
                          0.5,
                          "#f7f7f7"
                        ],
                        [
                          0.6,
                          "#e6f5d0"
                        ],
                        [
                          0.7,
                          "#b8e186"
                        ],
                        [
                          0.8,
                          "#7fbc41"
                        ],
                        [
                          0.9,
                          "#4d9221"
                        ],
                        [
                          1,
                          "#276419"
                        ]
                      ],
                      "sequential": [
                        [
                          0,
                          "#0d0887"
                        ],
                        [
                          0.1111111111111111,
                          "#46039f"
                        ],
                        [
                          0.2222222222222222,
                          "#7201a8"
                        ],
                        [
                          0.3333333333333333,
                          "#9c179e"
                        ],
                        [
                          0.4444444444444444,
                          "#bd3786"
                        ],
                        [
                          0.5555555555555556,
                          "#d8576b"
                        ],
                        [
                          0.6666666666666666,
                          "#ed7953"
                        ],
                        [
                          0.7777777777777778,
                          "#fb9f3a"
                        ],
                        [
                          0.8888888888888888,
                          "#fdca26"
                        ],
                        [
                          1,
                          "#f0f921"
                        ]
                      ],
                      "sequentialminus": [
                        [
                          0,
                          "#0d0887"
                        ],
                        [
                          0.1111111111111111,
                          "#46039f"
                        ],
                        [
                          0.2222222222222222,
                          "#7201a8"
                        ],
                        [
                          0.3333333333333333,
                          "#9c179e"
                        ],
                        [
                          0.4444444444444444,
                          "#bd3786"
                        ],
                        [
                          0.5555555555555556,
                          "#d8576b"
                        ],
                        [
                          0.6666666666666666,
                          "#ed7953"
                        ],
                        [
                          0.7777777777777778,
                          "#fb9f3a"
                        ],
                        [
                          0.8888888888888888,
                          "#fdca26"
                        ],
                        [
                          1,
                          "#f0f921"
                        ]
                      ]
                    },
                    "colorway": [
                      "#636efa",
                      "#EF553B",
                      "#00cc96",
                      "#ab63fa",
                      "#FFA15A",
                      "#19d3f3",
                      "#FF6692",
                      "#B6E880",
                      "#FF97FF",
                      "#FECB52"
                    ],
                    "font": {
                      "color": "#2a3f5f"
                    },
                    "geo": {
                      "bgcolor": "white",
                      "lakecolor": "white",
                      "landcolor": "#E5ECF6",
                      "showlakes": true,
                      "showland": true,
                      "subunitcolor": "white"
                    },
                    "hoverlabel": {
                      "align": "left"
                    },
                    "hovermode": "closest",
                    "mapbox": {
                      "style": "light"
                    },
                    "paper_bgcolor": "white",
                    "plot_bgcolor": "#E5ECF6",
                    "polar": {
                      "angularaxis": {
                        "gridcolor": "white",
                        "linecolor": "white",
                        "ticks": ""
                      },
                      "bgcolor": "#E5ECF6",
                      "radialaxis": {
                        "gridcolor": "white",
                        "linecolor": "white",
                        "ticks": ""
                      }
                    },
                    "scene": {
                      "xaxis": {
                        "backgroundcolor": "#E5ECF6",
                        "gridcolor": "white",
                        "gridwidth": 2,
                        "linecolor": "white",
                        "showbackground": true,
                        "ticks": "",
                        "zerolinecolor": "white"
                      },
                      "yaxis": {
                        "backgroundcolor": "#E5ECF6",
                        "gridcolor": "white",
                        "gridwidth": 2,
                        "linecolor": "white",
                        "showbackground": true,
                        "ticks": "",
                        "zerolinecolor": "white"
                      },
                      "zaxis": {
                        "backgroundcolor": "#E5ECF6",
                        "gridcolor": "white",
                        "gridwidth": 2,
                        "linecolor": "white",
                        "showbackground": true,
                        "ticks": "",
                        "zerolinecolor": "white"
                      }
                    },
                    "shapedefaults": {
                      "line": {
                        "color": "#2a3f5f"
                      }
                    },
                    "ternary": {
                      "aaxis": {
                        "gridcolor": "white",
                        "linecolor": "white",
                        "ticks": ""
                      },
                      "baxis": {
                        "gridcolor": "white",
                        "linecolor": "white",
                        "ticks": ""
                      },
                      "bgcolor": "#E5ECF6",
                      "caxis": {
                        "gridcolor": "white",
                        "linecolor": "white",
                        "ticks": ""
                      }
                    },
                    "title": {
                      "x": 0.05
                    },
                    "xaxis": {
                      "automargin": true,
                      "gridcolor": "white",
                      "linecolor": "white",
                      "ticks": "",
                      "title": {
                        "standoff": 15
                      },
                      "zerolinecolor": "white",
                      "zerolinewidth": 2
                    },
                    "yaxis": {
                      "automargin": true,
                      "gridcolor": "white",
                      "linecolor": "white",
                      "ticks": "",
                      "title": {
                        "standoff": 15
                      },
                      "zerolinecolor": "white",
                      "zerolinewidth": 2
                    }
                  }
                }
              }
            }
          },
          "metadata": {}
        }
      ]
    },
    {
      "cell_type": "code",
      "metadata": {
        "id": "ilHByNmeqkLU"
      },
      "source": [
        "testGen = ImageDataGenerator(\n",
        "    rescale= 1.0/255.0,\n",
        ")"
      ],
      "execution_count": 21,
      "outputs": []
    },
    {
      "cell_type": "code",
      "metadata": {
        "colab": {
          "base_uri": "https://localhost:8080/"
        },
        "id": "fGJpM8Wpqq-V",
        "outputId": "5f482880-aadb-4cf8-a2b4-108345ff6b9f"
      },
      "source": [
        "test = testGen.flow_from_directory(\n",
        "    DATAPATH, \n",
        "    target_size=(128, 128),\n",
        "    classes=['no_mask','well_ported_mask', 'wrong_ported_mask'],\n",
        "    class_mode='categorical', \n",
        "    batch_size=1, \n",
        "    shuffle=False,\n",
        ")\n"
      ],
      "execution_count": 22,
      "outputs": [
        {
          "output_type": "stream",
          "name": "stdout",
          "text": [
            "Found 1065 images belonging to 3 classes.\n"
          ]
        }
      ]
    },
    {
      "cell_type": "code",
      "metadata": {
        "id": "03a2IsIKrbT9"
      },
      "source": [
        "mob = MobileNetV2(\n",
        "    input_shape = (128,128,3),\n",
        "    include_top = False,\n",
        "    weights = 'imagenet',\n",
        ")\n",
        "mob.trainable = trainable\n"
      ],
      "execution_count": 23,
      "outputs": []
    },
    {
      "cell_type": "code",
      "metadata": {
        "colab": {
          "base_uri": "https://localhost:8080/"
        },
        "id": "RVIRf6kZrlVc",
        "outputId": "93fdb56b-0305-49b5-8bad-ac7440e16957"
      },
      "source": [
        "model = Sequential()\n",
        "model.add(mob)\n",
        "model.add(GlobalMaxPool2D())\n",
        "model.add(Dense(64,activation='relu'))\n",
        "model.add(Dropout(0.3))\n",
        "model.add(Dense(3,activation='softmax'))\n",
        "model.summary()"
      ],
      "execution_count": 24,
      "outputs": [
        {
          "output_type": "stream",
          "name": "stdout",
          "text": [
            "Model: \"sequential_1\"\n_________________________________________________________________\nLayer (type)                 Output Shape              Param #   \n=================================================================\nmobilenetv2_1.00_128 (Functi (None, 4, 4, 1280)        2257984   \n_________________________________________________________________\nglobal_max_pooling2d_1 (Glob (None, 1280)              0         \n_________________________________________________________________\ndense_2 (Dense)              (None, 64)                81984     \n_________________________________________________________________\ndropout_1 (Dropout)          (None, 64)                0         \n_________________________________________________________________\ndense_3 (Dense)              (None, 3)                 195       \n=================================================================\nTotal params: 2,340,163\nTrainable params: 82,179\nNon-trainable params: 2,257,984\n_________________________________________________________________\n"
          ]
        }
      ]
    },
    {
      "cell_type": "code",
      "metadata": {
        "id": "OrKJ_lz1roTy"
      },
      "source": [
        "model.compile(loss='categorical_crossentropy',metrics=['accuracy'])\n",
        "model.load_weights( initial_weights )"
      ],
      "execution_count": 25,
      "outputs": []
    },
    {
      "cell_type": "code",
      "metadata": {
        "colab": {
          "base_uri": "https://localhost:8080/"
        },
        "id": "VqM4qWqusAt_",
        "outputId": "5e4349cd-02fc-46ad-d337-62823e539209"
      },
      "source": [
        "model.evaluate(test)"
      ],
      "execution_count": 26,
      "outputs": [
        {
          "output_type": "stream",
          "name": "stdout",
          "text": [
            "1065/1065 [==============================] - 10s 10ms/step - loss: 0.8813 - accuracy: 0.5568\n"
          ]
        },
        {
          "output_type": "execute_result",
          "data": {
            "text/plain": [
              "[0.8812596797943115, 0.5568075180053711]"
            ]
          },
          "metadata": {},
          "execution_count": 26
        }
      ]
    }
  ]
}